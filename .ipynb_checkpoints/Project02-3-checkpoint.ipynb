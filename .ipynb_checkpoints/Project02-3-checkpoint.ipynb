{
 "cells": [
  {
   "cell_type": "markdown",
   "id": "3adb83b7",
   "metadata": {},
   "source": [
    "## Project 2 Code\n",
    "#### COMP135\n",
    "#### Sophia Zhang\n",
    "#### August 14, 2021\n",
    "\n",
    "Submission details <br>\n",
    "1. Collaborators information: Submit the usual COLLABORATORS.txt file, containing your\n",
    "name, amount of time spent on the project, and persons/resources consulted.\n",
    "2. PDF: Submit the PDF containing all the required figures and discussion.\n",
    "3. Predictions: Submit text-files containing predictions on the test data to the leaderboard.\n",
    "### Import required libraries."
   ]
  },
  {
   "cell_type": "code",
   "execution_count": 1,
   "id": "34cc3f06",
   "metadata": {},
   "outputs": [],
   "source": [
    "import os\n",
    "import numpy as np\n",
    "import pandas as pd\n",
    "\n",
    "import warnings\n",
    "\n",
    "import sklearn.linear_model\n",
    "import sklearn.metrics\n",
    "import sklearn.calibration\n",
    "\n",
    "from matplotlib import pyplot as plt\n",
    "import matplotlib\n",
    "import seaborn as sns\n",
    "%matplotlib inline\n",
    "plt.style.use('seaborn') # pretty matplotlib plots\n",
    "\n",
    "# imports and setup\n",
    "from numpy.random import default_rng\n",
    "\n",
    "#from sklearn.datasets import make_classification, load_digits\n",
    "from sklearn.linear_model import LogisticRegression\n",
    "from sklearn.ensemble import RandomForestClassifier\n",
    "from sklearn.metrics import roc_curve, roc_auc_score, log_loss, confusion_matrix\n",
    "from sklearn.model_selection import train_test_split\n",
    "from sklearn.preprocessing import minmax_scale\n",
    "\n",
    "# For basic tokenizing and counting:\n",
    "from sklearn.feature_extraction.text import CountVectorizer\n",
    "from sklearn.feature_extraction.text import TfidfTransformer #transforms counts\n",
    "from sklearn.feature_extraction.text import TfidfVectorizer #counts and vectorizes \n",
    "\n",
    "# For nlp text processing\n",
    "import nltk\n",
    "import re\n",
    "from autocorrect import Speller\n",
    "from nltk.corpus import wordnet\n",
    "\n",
    "## for vectorizer\n",
    "from sklearn import feature_extraction, manifold\n",
    "\n",
    "#For hyperparameter tuning\n",
    "#from sklearn.pipeline import Pipeline\n",
    "from sklearn.model_selection import GridSearchCV\n",
    "from sklearn.model_selection import RandomizedSearchCV\n",
    "\n"
   ]
  },
  {
   "cell_type": "markdown",
   "id": "f76d5204",
   "metadata": {},
   "source": [
    "You have been supplied with several thousand single-sentence reviews, collected from three domains: imdb.com, amazon.com, and yelp.com. Each review consists of a sentence, and has been assigned a binary label indicating the sentiment (1 for positive and 0 for negative) of that sentence. Your goal is to develop binary classifiers that can generate the sentiment-labels for new sentences, automating the assessment process. While the reviews were collected from websites where much of the content is in English, the reviews may well contain slang, spelling errors, foreign characters and the like, all of which make natural language data challenging, albeit fun, to try to classify like this.\n",
    "The provided data consists of 2,400 training examples in the usual CSV x and y format.\n",
    "<br>Input data has two columns, for the source-website and review text; outputs are given as binary values, where 1 indicates a positive review. There are also 600 testing inputs, for which no y-values are given; these will be used for validation against the Gradescope leaderboards. The Project download also contains a short script, load_train_data.py, that will give you guidance as to how you might load the data using Pandas (of course, you can load it in other ways as well if you so choose).<br>\n",
    "Examples of positive reviews include:\n",
    "<br>•(amazon) #1 It Works - #2 It is Comfortable.\n",
    "<br>•(imdb) \"Gotta love those close-ups of slimy, drooling teeth! \" \n",
    "<br>• (yelp) Food was so gooodd.\n",
    "<br>Examples of negative reviews include:\n",
    "<br>•(amazon) DO NOT BUY DO NOT BUYIT SUCKS\n",
    "<br>• (imdb) This is not movie-making.\n",
    "<br>• (yelp) The service was poor and thats being nice.\n"
   ]
  },
  {
   "cell_type": "markdown",
   "id": "7fc28148",
   "metadata": {},
   "source": [
    "### Load the training/testing data"
   ]
  },
  {
   "cell_type": "code",
   "execution_count": 2,
   "id": "8e3657a0",
   "metadata": {},
   "outputs": [
    {
     "data": {
      "text/plain": [
       "2400"
      ]
     },
     "execution_count": 2,
     "metadata": {},
     "output_type": "execute_result"
    }
   ],
   "source": [
    "#%run -i 'load_train_data.py'\n",
    "x_test_df = pd.read_csv('data_reviews/x_test.csv') #600 samples\n",
    "\n",
    "x_train_df = pd.read_csv('data_reviews/x_train.csv') #2400 samples\n",
    "y_train_df = pd.read_csv('data_reviews/y_train.csv')\n",
    "\n",
    "tr_text_list = x_train_df['text'].values.tolist()\n",
    "\n",
    "#for text in tr_text_list:\n",
    "    #print(text)\n",
    "\n",
    "len(tr_text_list)"
   ]
  },
  {
   "cell_type": "code",
   "execution_count": 3,
   "id": "5fcf631c",
   "metadata": {},
   "outputs": [
    {
     "name": "stdout",
     "output_type": "stream",
     "text": [
      "Number of features:  4510\n"
     ]
    }
   ],
   "source": [
    "#Most simple basic vectorizor\n",
    "count_vectorizer = CountVectorizer()\n",
    "x = count_vectorizer.fit_transform(tr_text_list)\n",
    "features = count_vectorizer.get_feature_names()\n",
    "print(\"Number of features: \", len(features))\n",
    "#print(features) #3574\n",
    "#x.toarray()"
   ]
  },
  {
   "cell_type": "markdown",
   "id": "d5e5c73a",
   "metadata": {},
   "source": [
    "### Notes\n",
    "Document how processing is done. Flowchart!\n",
    "Make preprocessing pipeline as clearly as possible, outline the steps with motivation.\n",
    "Name the steps in order, describe/explain them and provide reference sources, be able to replicate.\n",
    "Appendix with list stopwords\n",
    "Summarize the results for all models in a figure and/or table, describe the differences and similarities and what they mean.<br>\n",
    "e.g. Bar chart, training/test accuracy ordered by test accuracy\n",
    "<br>\n",
    "Highlight/bold the best models/metrics\n",
    "At least 2 parameters and at least 10 combinations, \n",
    "e.g. \n",
    "NN: 3 combinations of hidden layers, 2 combs of activation functions; adds to abt 10 combs\n",
    "Reg.: 2 solvers, 5 values of C\n",
    "Regression: 5 elastic net control parameter l1, 5 values of C"
   ]
  },
  {
   "cell_type": "markdown",
   "id": "f80acf23",
   "metadata": {},
   "source": [
    "### Preprocessing\n",
    "It is recommended that you preprocess your data, removing punctuation, non-English and non- text characters, and unifying the case (i.e., setting everything to be either upper- or lower-case). You will then investigate feature representations for converting strings of words in sentence form into feature vectors x_n of some common length n, and use those feature representations to build and compare a number of different types of models.\n",
    "<br>\n",
    "Source: https://www.digitalocean.com/community/tutorials/how-to-perform-sentiment-analysis-in-python-3-using-the-natural-language-toolkit-nltk\n",
    "<br>\n",
    "https://realpython.com/python-nltk-sentiment-analysis/\n",
    "\n",
    "### Text Preprocessing Steps\n",
    "1. Convert text to lower case\n",
    "2. Remove punctuation and special characters\n",
    "3. Remove numbers\n",
    "4. Correct spelling\n",
    "4. Tokenize\n",
    "5. Remove stopwords\n",
    "6. Normalization: Lemmatisation (or Stemming)\n",
    "7. Convert back to string\n",
    "\n",
    "### Word selection\n",
    "6. Determining Word Density: most common words using the FreqDist class of NLTK\n",
    "7. Remove very rare words: words that occur less than 3 times in training data\n",
    "8. Find collocations: Bigrams, Trigrams, or Quadgrams, we will use Bigrams, Frequent two-word combinations\n",
    "<br>"
   ]
  },
  {
   "cell_type": "code",
   "execution_count": 4,
   "id": "b3a844fc",
   "metadata": {},
   "outputs": [],
   "source": [
    "#Create a list of stopwords\n",
    "# Based on nltk.corpus.stopwords.words(\"english\")\n",
    "stop_words=['i', 'me', 'my', 'myself', 'we', 'our', 'ours', 'ourselves', 'you', \"you're\", \"you've\", \"you'll\", \"you'd\", 'your', 'yours', 'yourself', 'yourselves', 'he', 'him', 'his', 'himself', 'she', \"she's\", 'her', 'hers', 'herself', 'it', \"it's\", 'its', 'itself', 'they', 'them', 'their', 'theirs', 'themselves', 'what', 'which', 'who', 'whom', 'this', 'that', \"that'll\", 'these', 'those', 'am', 'is', 'are', 'was', 'were', 'be', 'been', 'being', 'have', 'has', 'had', 'having', 'do', 'does', 'did', 'doing', 'a', 'an', 'the', 'and', 'but', 'if', 'or', 'because', 'as', 'until', 'while', 'of', 'at', 'by', 'for', 'with', 'about', 'between', 'into', 'through', 'during', 'before', 'after', 'above', 'below', 'to', 'from', 'up', 'down', 'in', 'out', 'on', 'off', 'over',   'further', 'then', 'once', 'here', 'there', 'when', 'where', 'why', 'how', 'all', 'any', 'both', 'each', 'more',  'other', 'some', 'such', 'own', 'so', 'than', 'too',  's', 't', 'can', 'will', 'now', 'd', 'll', 'm', 'o', 're', 've', 'y']"
   ]
  },
  {
   "cell_type": "code",
   "execution_count": 5,
   "id": "e15a27a5",
   "metadata": {},
   "outputs": [],
   "source": [
    "# Lemmatize with POS Tag\n",
    "#Source: https://www.machinelearningplus.com/nlp/lemmatization-examples-python/\n",
    "\n",
    "def get_wordnet_pos(word):\n",
    "    \"\"\"Map POS tag to first character lemmatize() accepts\"\"\"\n",
    "    tag = nltk.pos_tag([word])[0][1][0].upper()\n",
    "    tag_dict = {\"J\": wordnet.ADJ,\n",
    "                \"V\": wordnet.VERB,\n",
    "                \"R\": wordnet.ADV,\n",
    "               \"N\": wordnet.NOUN}\n",
    "\n",
    "    return tag_dict.get(tag, wordnet.NOUN)"
   ]
  },
  {
   "cell_type": "code",
   "execution_count": 6,
   "id": "ccdf8ebd",
   "metadata": {},
   "outputs": [],
   "source": [
    "#get_wordnet_pos('idiot')\n",
    "#lem = nltk.stem.wordnet.WordNetLemmatizer()\n",
    "#lem.lemmatize('idiot',get_wordnet_pos('idiot'))\n",
    "#excluded_tags = {'n'}\n",
    "#lst_text = ['idiot','hanging','hang','book','work']\n",
    "#a=[lem.lemmatize(word,get_wordnet_pos(word)) for word in lst_text if get_wordnet_pos(word) not in excluded_tags]"
   ]
  },
  {
   "cell_type": "code",
   "execution_count": 7,
   "id": "9e2bda72",
   "metadata": {},
   "outputs": [],
   "source": [
    "lst_stopwords = stop_words\n",
    "spell = Speller()\n",
    "\n",
    "def utils_preprocess_text(text, flg_stemm=False, flg_lemm=True, lst_stopwords=None):\n",
    "    '''\n",
    "    Preprocess a string.\n",
    "    :parameter\n",
    "        :param text: string - name of column containing text\n",
    "        :param lst_stopwords: list - list of stopwords to remove\n",
    "        :param flg_stemm: bool - whether stemming is to be applied\n",
    "        :param flg_lemm: bool - whether lemmitisation is to be applied\n",
    "    :return\n",
    "        cleaned text\n",
    "    '''\n",
    "    ## clean (convert to lowercase and remove punctuations and characters and then strip)\n",
    "    text1 = re.sub(r'[^\\w\\s]', '', str(text))\n",
    "    \n",
    "    ## remove numbers\n",
    "    text2 = re.sub(r'[0-9]', '', str(text1).lower().strip())\n",
    "    \n",
    "    #autocorrect mispelling\n",
    "    text3 = spell(text2)\n",
    "            \n",
    "    ## Tokenize (convert from string to list)\n",
    "    lst_text = text3.split()\n",
    "    \n",
    "    ## remove Stopwords\n",
    "    if lst_stopwords is not None:\n",
    "        lst_text = [word for word in lst_text if word not in \n",
    "                    lst_stopwords]\n",
    "                \n",
    "    ## Stemming (remove -ing, -ly, ...)\n",
    "    if flg_stemm == True:\n",
    "        ps = nltk.stem.porter.PorterStemmer()\n",
    "        lst_text = [ps.stem(word) for word in lst_text]\n",
    "                \n",
    "    ## Lemmatisation (convert the word into root word)\n",
    "    if flg_lemm == True:\n",
    "        lem = nltk.stem.wordnet.WordNetLemmatizer()\n",
    "        #Exclude any nouns\n",
    "        #excluded_tags = {'n'}\n",
    "        lst_text = [lem.lemmatize(word,get_wordnet_pos(word)) for word in lst_text] #if get_wordnet_pos(word) not in excluded_tags]\n",
    "            \n",
    "    ## back to string from list\n",
    "    text = \" \".join(lst_text)\n",
    "    return text"
   ]
  },
  {
   "cell_type": "code",
   "execution_count": 8,
   "id": "dfd7b2db",
   "metadata": {},
   "outputs": [],
   "source": [
    "x_train_df[\"text_clean\"] = x_train_df[\"text\"].apply(lambda x: utils_preprocess_text(x, flg_stemm=False, flg_lemm=True, lst_stopwords=lst_stopwords))"
   ]
  },
  {
   "cell_type": "code",
   "execution_count": 9,
   "id": "997d84cb",
   "metadata": {},
   "outputs": [
    {
     "name": "stdout",
     "output_type": "stream",
     "text": [
      "the only VERY DISAPPOINTING thing was there was NO SPEAKERPHONE!!!!  -->  only very disappoint thing no speakerphone\n"
     ]
    }
   ],
   "source": [
    "print(x_train_df[\"text\"].iloc[8], \" --> \", x_train_df[\"text_clean\"].iloc[8])"
   ]
  },
  {
   "cell_type": "code",
   "execution_count": 10,
   "id": "1106d658",
   "metadata": {},
   "outputs": [
    {
     "data": {
      "text/html": [
       "<div>\n",
       "<style scoped>\n",
       "    .dataframe tbody tr th:only-of-type {\n",
       "        vertical-align: middle;\n",
       "    }\n",
       "\n",
       "    .dataframe tbody tr th {\n",
       "        vertical-align: top;\n",
       "    }\n",
       "\n",
       "    .dataframe thead th {\n",
       "        text-align: right;\n",
       "    }\n",
       "</style>\n",
       "<table border=\"1\" class=\"dataframe\">\n",
       "  <thead>\n",
       "    <tr style=\"text-align: right;\">\n",
       "      <th></th>\n",
       "      <th>website_name</th>\n",
       "      <th>text</th>\n",
       "      <th>text_clean</th>\n",
       "      <th>y</th>\n",
       "    </tr>\n",
       "  </thead>\n",
       "  <tbody>\n",
       "    <tr>\n",
       "      <th>0</th>\n",
       "      <td>amazon</td>\n",
       "      <td>Oh and I forgot to also mention the weird colo...</td>\n",
       "      <td>oh forgot also mention weird color effect phone</td>\n",
       "      <td>0</td>\n",
       "    </tr>\n",
       "    <tr>\n",
       "      <th>1</th>\n",
       "      <td>amazon</td>\n",
       "      <td>THAT one didn't work either.</td>\n",
       "      <td>one didnt work either</td>\n",
       "      <td>0</td>\n",
       "    </tr>\n",
       "    <tr>\n",
       "      <th>2</th>\n",
       "      <td>amazon</td>\n",
       "      <td>Waste of 13 bucks.</td>\n",
       "      <td>waste buck</td>\n",
       "      <td>0</td>\n",
       "    </tr>\n",
       "    <tr>\n",
       "      <th>3</th>\n",
       "      <td>amazon</td>\n",
       "      <td>Product is useless, since it does not have eno...</td>\n",
       "      <td>product useless since not enough charge curren...</td>\n",
       "      <td>0</td>\n",
       "    </tr>\n",
       "    <tr>\n",
       "      <th>4</th>\n",
       "      <td>amazon</td>\n",
       "      <td>None of the three sizes they sent with the hea...</td>\n",
       "      <td>none three size sent headset would stay ear</td>\n",
       "      <td>0</td>\n",
       "    </tr>\n",
       "  </tbody>\n",
       "</table>\n",
       "</div>"
      ],
      "text/plain": [
       "  website_name                                               text  \\\n",
       "0       amazon  Oh and I forgot to also mention the weird colo...   \n",
       "1       amazon                       THAT one didn't work either.   \n",
       "2       amazon                                 Waste of 13 bucks.   \n",
       "3       amazon  Product is useless, since it does not have eno...   \n",
       "4       amazon  None of the three sizes they sent with the hea...   \n",
       "\n",
       "                                          text_clean  y  \n",
       "0    oh forgot also mention weird color effect phone  0  \n",
       "1                              one didnt work either  0  \n",
       "2                                         waste buck  0  \n",
       "3  product useless since not enough charge curren...  0  \n",
       "4        none three size sent headset would stay ear  0  "
      ]
     },
     "execution_count": 10,
     "metadata": {},
     "output_type": "execute_result"
    }
   ],
   "source": [
    "#Dataframe with y and word counts\n",
    "train_df=x_train_df.copy()\n",
    "train_df['y']=y_train_df\n",
    "train_df.head()"
   ]
  },
  {
   "cell_type": "code",
   "execution_count": 11,
   "id": "7f85ebcc",
   "metadata": {},
   "outputs": [
    {
     "data": {
      "text/html": [
       "<div>\n",
       "<style scoped>\n",
       "    .dataframe tbody tr th:only-of-type {\n",
       "        vertical-align: middle;\n",
       "    }\n",
       "\n",
       "    .dataframe tbody tr th {\n",
       "        vertical-align: top;\n",
       "    }\n",
       "\n",
       "    .dataframe thead th {\n",
       "        text-align: right;\n",
       "    }\n",
       "</style>\n",
       "<table border=\"1\" class=\"dataframe\">\n",
       "  <thead>\n",
       "    <tr style=\"text-align: right;\">\n",
       "      <th></th>\n",
       "      <th>website_name</th>\n",
       "      <th>text</th>\n",
       "      <th>text_clean</th>\n",
       "      <th>y</th>\n",
       "      <th>word_count</th>\n",
       "      <th>char_count</th>\n",
       "      <th>sentence_count</th>\n",
       "      <th>avg_word_length</th>\n",
       "      <th>avg_sentence_length</th>\n",
       "    </tr>\n",
       "  </thead>\n",
       "  <tbody>\n",
       "    <tr>\n",
       "      <th>0</th>\n",
       "      <td>amazon</td>\n",
       "      <td>Oh and I forgot to also mention the weird colo...</td>\n",
       "      <td>oh forgot also mention weird color effect phone</td>\n",
       "      <td>0</td>\n",
       "      <td>16</td>\n",
       "      <td>61</td>\n",
       "      <td>2</td>\n",
       "      <td>3.812500</td>\n",
       "      <td>8.0</td>\n",
       "    </tr>\n",
       "    <tr>\n",
       "      <th>1</th>\n",
       "      <td>amazon</td>\n",
       "      <td>THAT one didn't work either.</td>\n",
       "      <td>one didnt work either</td>\n",
       "      <td>0</td>\n",
       "      <td>5</td>\n",
       "      <td>24</td>\n",
       "      <td>2</td>\n",
       "      <td>4.800000</td>\n",
       "      <td>2.5</td>\n",
       "    </tr>\n",
       "    <tr>\n",
       "      <th>2</th>\n",
       "      <td>amazon</td>\n",
       "      <td>Waste of 13 bucks.</td>\n",
       "      <td>waste buck</td>\n",
       "      <td>0</td>\n",
       "      <td>4</td>\n",
       "      <td>15</td>\n",
       "      <td>2</td>\n",
       "      <td>3.750000</td>\n",
       "      <td>2.0</td>\n",
       "    </tr>\n",
       "    <tr>\n",
       "      <th>3</th>\n",
       "      <td>amazon</td>\n",
       "      <td>Product is useless, since it does not have eno...</td>\n",
       "      <td>product useless since not enough charge curren...</td>\n",
       "      <td>0</td>\n",
       "      <td>23</td>\n",
       "      <td>102</td>\n",
       "      <td>2</td>\n",
       "      <td>4.434783</td>\n",
       "      <td>11.5</td>\n",
       "    </tr>\n",
       "    <tr>\n",
       "      <th>4</th>\n",
       "      <td>amazon</td>\n",
       "      <td>None of the three sizes they sent with the hea...</td>\n",
       "      <td>none three size sent headset would stay ear</td>\n",
       "      <td>0</td>\n",
       "      <td>15</td>\n",
       "      <td>59</td>\n",
       "      <td>2</td>\n",
       "      <td>3.933333</td>\n",
       "      <td>7.5</td>\n",
       "    </tr>\n",
       "  </tbody>\n",
       "</table>\n",
       "</div>"
      ],
      "text/plain": [
       "  website_name                                               text  \\\n",
       "0       amazon  Oh and I forgot to also mention the weird colo...   \n",
       "1       amazon                       THAT one didn't work either.   \n",
       "2       amazon                                 Waste of 13 bucks.   \n",
       "3       amazon  Product is useless, since it does not have eno...   \n",
       "4       amazon  None of the three sizes they sent with the hea...   \n",
       "\n",
       "                                          text_clean  y  word_count  \\\n",
       "0    oh forgot also mention weird color effect phone  0          16   \n",
       "1                              one didnt work either  0           5   \n",
       "2                                         waste buck  0           4   \n",
       "3  product useless since not enough charge curren...  0          23   \n",
       "4        none three size sent headset would stay ear  0          15   \n",
       "\n",
       "   char_count  sentence_count  avg_word_length  avg_sentence_length  \n",
       "0          61               2         3.812500                  8.0  \n",
       "1          24               2         4.800000                  2.5  \n",
       "2          15               2         3.750000                  2.0  \n",
       "3         102               2         4.434783                 11.5  \n",
       "4          59               2         3.933333                  7.5  "
      ]
     },
     "execution_count": 11,
     "metadata": {},
     "output_type": "execute_result"
    }
   ],
   "source": [
    "train_df['word_count'] = train_df[\"text\"].apply(lambda x: len(str(x).split(\" \")))\n",
    "train_df['char_count'] = train_df[\"text\"].apply(lambda x: sum(len(word) for word in str(x).split(\" \")))\n",
    "train_df['sentence_count'] = train_df[\"text\"].apply(lambda x: len(str(x).split(\".\")))\n",
    "train_df['avg_word_length'] = train_df['char_count'] / train_df['word_count']\n",
    "train_df['avg_sentence_length'] = train_df['word_count'] / train_df['sentence_count']\n",
    "train_df.head()"
   ]
  },
  {
   "cell_type": "code",
   "execution_count": 12,
   "id": "f23d12aa",
   "metadata": {},
   "outputs": [
    {
     "data": {
      "image/png": "[encoded data removed]",
      "text/plain": [
       "<Figure size 576x396 with 2 Axes>"
      ]
     },
     "metadata": {},
     "output_type": "display_data"
    }
   ],
   "source": [
    "x= \"word_count\" #word_count,char_count,sentence_count,avg_word_length,avg_sentence_length\n",
    "y =\"y\"\n",
    "fig, ax = plt.subplots(nrows=1, ncols=2)\n",
    "fig.suptitle(x, fontsize=12)\n",
    "sns.histplot(data=train_df, x=x,hue=y,bins=10, ax=ax[0])\n",
    "sns.kdeplot(data=train_df, x=x,hue=y, ax=ax[1])\n",
    "ax[0].grid(True)\n",
    "ax[0].legend(train_df[y].unique())\n",
    "ax[1].legend(train_df[y].unique())\n",
    "ax[1].grid(True)\n",
    "plt.show()"
   ]
  },
  {
   "cell_type": "code",
   "execution_count": 13,
   "id": "89d3f395",
   "metadata": {},
   "outputs": [
    {
     "data": {
      "image/png": "[encoded data removed]",
      "text/plain": [
       "<Figure size 576x396 with 2 Axes>"
      ]
     },
     "metadata": {},
     "output_type": "display_data"
    }
   ],
   "source": [
    "# Positive reviews\n",
    "y = 1\n",
    "corpus = train_df[train_df[\"y\"]==y][\"text_clean\"]\n",
    "lst_tokens = nltk.tokenize.word_tokenize(corpus.str.cat(sep=\" \"))\n",
    "fig, ax = plt.subplots(nrows=1, ncols=2)\n",
    "fig.suptitle(\"Most frequent words in Positive Reviews\", fontsize=15)\n",
    "    \n",
    "## unigrams\n",
    "dic_words_freq = nltk.FreqDist(lst_tokens)\n",
    "dtf_uni = pd.DataFrame(dic_words_freq.most_common(), \n",
    "                       columns=[\"Word\",\"Freq\"])\n",
    "#Set top n=10 number of frequent words\n",
    "dtf_uni.set_index(\"Word\").iloc[:10,:].sort_values(by=\"Freq\").plot(\n",
    "                  kind=\"barh\", title=\"Unigrams\", ax=ax[0], \n",
    "                  legend=False).grid(axis='x')\n",
    "ax[0].set(ylabel=None)\n",
    "## bigrams\n",
    "dic_words_freq = nltk.FreqDist(nltk.ngrams(lst_tokens, 2))\n",
    "dtf_bi = pd.DataFrame(dic_words_freq.most_common(), \n",
    "                      columns=[\"Word\",\"Freq\"])\n",
    "dtf_bi[\"Word\"] = dtf_bi[\"Word\"].apply(lambda x: \" \".join(\n",
    "                   string for string in x) )\n",
    "dtf_bi.set_index(\"Word\").iloc[:10,:].sort_values(by=\"Freq\").plot(\n",
    "                  kind=\"barh\", title=\"Bigrams\", ax=ax[1],\n",
    "                  legend=False).grid(axis='x')\n",
    "ax[1].set(ylabel=None)\n",
    "plt.show()"
   ]
  },
  {
   "cell_type": "code",
   "execution_count": 14,
   "id": "40852fc8",
   "metadata": {},
   "outputs": [],
   "source": [
    "#look for most used unigrams and bigrams\n",
    "pos_unigram=dtf_uni[dtf_uni['Freq']>1]['Word'].values.tolist() #3\n",
    "pos_bigram=dtf_bi[dtf_bi['Freq']>1]['Word'].values.tolist() #2\n",
    "pos_words=pos_unigram+pos_bigram"
   ]
  },
  {
   "cell_type": "code",
   "execution_count": 15,
   "id": "7c1db1c1",
   "metadata": {},
   "outputs": [
    {
     "data": {
      "image/png": "[encoded data removed]",
      "text/plain": [
       "<Figure size 576x396 with 2 Axes>"
      ]
     },
     "metadata": {},
     "output_type": "display_data"
    }
   ],
   "source": [
    "# Negative reviews\n",
    "y = 0\n",
    "corpus = train_df[train_df[\"y\"]==y][\"text_clean\"]\n",
    "lst_tokens = nltk.tokenize.word_tokenize(corpus.str.cat(sep=\" \"))\n",
    "fig, ax = plt.subplots(nrows=1, ncols=2)\n",
    "fig.suptitle(\"Most frequent words in Negative Reviews\", fontsize=15)\n",
    "    \n",
    "## unigrams\n",
    "dic_words_freq = nltk.FreqDist(lst_tokens)\n",
    "dtf_uni = pd.DataFrame(dic_words_freq.most_common(), \n",
    "                       columns=[\"Word\",\"Freq\"])\n",
    "#Set top n=10 number of frequent words\n",
    "dtf_uni.set_index(\"Word\").iloc[:10,:].sort_values(by=\"Freq\").plot(\n",
    "                  kind=\"barh\", title=\"Unigrams\", ax=ax[0], \n",
    "                  legend=False).grid(axis='x')\n",
    "ax[0].set(ylabel=None)\n",
    "## bigrams\n",
    "dic_words_freq = nltk.FreqDist(nltk.ngrams(lst_tokens, 2))\n",
    "dtf_bi = pd.DataFrame(dic_words_freq.most_common(), \n",
    "                      columns=[\"Word\",\"Freq\"])\n",
    "dtf_bi[\"Word\"] = dtf_bi[\"Word\"].apply(lambda x: \" \".join(\n",
    "                   string for string in x) )\n",
    "dtf_bi.set_index(\"Word\").iloc[:10,:].sort_values(by=\"Freq\").plot(\n",
    "                  kind=\"barh\", title=\"Bigrams\", ax=ax[1],\n",
    "                  legend=False).grid(axis='x')\n",
    "ax[1].set(ylabel=None)\n",
    "plt.show()\n",
    "\n"
   ]
  },
  {
   "cell_type": "code",
   "execution_count": 16,
   "id": "6d45f134",
   "metadata": {},
   "outputs": [],
   "source": [
    "#look for most used unigrams and bigrams\n",
    "neg_unigram=dtf_uni[dtf_uni['Freq']>1]['Word'].values.tolist() #3\n",
    "neg_bigram=dtf_bi[dtf_bi['Freq']>1]['Word'].values.tolist() #2\n",
    "neg_words=neg_unigram+neg_bigram"
   ]
  },
  {
   "cell_type": "code",
   "execution_count": 17,
   "id": "f6d18914",
   "metadata": {},
   "outputs": [
    {
     "name": "stdout",
     "output_type": "stream",
     "text": [
      "2400\n",
      "1379\n",
      "1361\n"
     ]
    }
   ],
   "source": [
    "tr_text_list = x_train_df['text_clean'].values.tolist()\n",
    "print(len(tr_text_list))\n",
    "print(len(pos_words))\n",
    "print(len(neg_words))"
   ]
  },
  {
   "cell_type": "code",
   "execution_count": 18,
   "id": "e3ec937f",
   "metadata": {},
   "outputs": [
    {
     "name": "stdout",
     "output_type": "stream",
     "text": [
      "2199\n",
      "1658\n"
     ]
    }
   ],
   "source": [
    "print(len(list(set(pos_words) | set(neg_words))))\n",
    "print(len(list(set(pos_words) ^ set(neg_words))))"
   ]
  },
  {
   "cell_type": "code",
   "execution_count": 19,
   "id": "c006f0b0",
   "metadata": {},
   "outputs": [
    {
     "name": "stdout",
     "output_type": "stream",
     "text": [
      "Number of features:  1658\n"
     ]
    },
    {
     "data": {
      "text/plain": [
       "3"
      ]
     },
     "execution_count": 19,
     "metadata": {},
     "output_type": "execute_result"
    }
   ],
   "source": [
    "# Simplest basic tokenizing and counting:\n",
    "\n",
    "# symmetric difference: keep words in either only pos_words or only neg_words, not in both\n",
    "lst_words = list(set(pos_words) ^ set(neg_words))\n",
    "## count\n",
    "lst_grams = [len(word.split(\" \")) for word in lst_words]\n",
    "count_vectorizer = CountVectorizer(vocabulary=lst_words, ngram_range=(min(lst_grams),max(lst_grams)))\n",
    "\n",
    "x = count_vectorizer.fit_transform(tr_text_list)\n",
    "print(\"Number of features: \", len(x.toarray()[0]))\n",
    "#print(vectorizer.get_feature_names())\n",
    "#print(x.toarray())\n",
    "X_counts=pd.DataFrame(x.toarray(), columns=count_vectorizer.get_feature_names())\n",
    "\n",
    "## add the new features as columns to full DF\n",
    "#dtf_X = pd.DataFrame(vectorizer.fit_transform(train_df[\"text_clean\"]).todense(), columns=lst_words)\n",
    "#dtf = pd.concat([x_train_df, dtf_X.set_index(x_train_df.index)], axis=1)\n",
    "#dtf.head()\n",
    "max(X_counts.max())"
   ]
  },
  {
   "cell_type": "markdown",
   "id": "955818de",
   "metadata": {},
   "source": [
    "**Binary Counting**"
   ]
  },
  {
   "cell_type": "code",
   "execution_count": 20,
   "id": "e116a3d7",
   "metadata": {},
   "outputs": [
    {
     "name": "stdout",
     "output_type": "stream",
     "text": [
      "Number of features:  1658\n"
     ]
    },
    {
     "data": {
      "text/plain": [
       "1"
      ]
     },
     "execution_count": 20,
     "metadata": {},
     "output_type": "execute_result"
    }
   ],
   "source": [
    "# Binary tokenizing and counting: all non zero counts are set to 1\n",
    "\n",
    "# symmetric difference: keep words in either only pos_words or only neg_words, not in both\n",
    "lst_words = list(set(pos_words) ^ set(neg_words))\n",
    "## count\n",
    "lst_grams = [len(word.split(\" \")) for word in lst_words]\n",
    "bin_vectorizer = CountVectorizer(vocabulary=lst_words, binary=True, ngram_range=(min(lst_grams),max(lst_grams)))\n",
    "\n",
    "x = bin_vectorizer.fit_transform(tr_text_list)\n",
    "print(\"Number of features: \", len(x.toarray()[0]))\n",
    "#print(vectorizer.get_feature_names())\n",
    "#print(x.toarray())\n",
    "X_binary=pd.DataFrame(x.toarray(), columns=bin_vectorizer.get_feature_names())\n",
    "\n",
    "max(X_binary.max())"
   ]
  },
  {
   "cell_type": "markdown",
   "id": "8f9963ad",
   "metadata": {},
   "source": [
    "The ***inverse document frequency*** gives a more nuanced view of the amount of information a token provides about the documents overall: the more documents in which a term shows up, the less important it is.\n",
    "\n",
    "IDF with cleaned text, no vocab features."
   ]
  },
  {
   "cell_type": "code",
   "execution_count": 21,
   "id": "51ec09c0",
   "metadata": {},
   "outputs": [
    {
     "name": "stdout",
     "output_type": "stream",
     "text": [
      "Number of features:  3574\n"
     ]
    }
   ],
   "source": [
    "tfidf_vectorizer = TfidfVectorizer()\n",
    "x_tf = tfidf_vectorizer.fit_transform(tr_text_list)\n",
    "print(\"Number of features: \", len(x_tf.toarray()[0]))\n",
    "X_tfid_all=pd.DataFrame(x_tf.toarray(), columns=tfidf_vectorizer.get_feature_names())"
   ]
  },
  {
   "cell_type": "markdown",
   "id": "f3773567",
   "metadata": {},
   "source": [
    "IDF with cleaned text, with vocab features."
   ]
  },
  {
   "cell_type": "markdown",
   "id": "e274431c",
   "metadata": {},
   "source": [
    "from sklearn.pipeline import Pipeline\n",
    "text_clf = Pipeline([('vect', CountVectorizer()),\n",
    "                     ('tfidf', TfidfTransformer()),('clf', MultinomialNB())])\n",
    "text_clf = text_clf.fit(tr_text_list, y_train_df)"
   ]
  },
  {
   "cell_type": "code",
   "execution_count": 22,
   "id": "789cfbd4",
   "metadata": {},
   "outputs": [
    {
     "name": "stdout",
     "output_type": "stream",
     "text": [
      "(2400, 1658)\n",
      "(2400, 1658)\n"
     ]
    },
    {
     "data": {
      "text/plain": [
       "1.0"
      ]
     },
     "execution_count": 22,
     "metadata": {},
     "output_type": "execute_result"
    }
   ],
   "source": [
    "#Alternatively can transform vectorized counts (with vocab) to inverse document frequency vector\n",
    "\n",
    "X_train_counts = count_vectorizer.fit_transform(tr_text_list)\n",
    "print(X_train_counts.shape)\n",
    "\n",
    "tfidf_transformer = TfidfTransformer()\n",
    "X_train_tfidf = tfidf_transformer.fit_transform(X_train_counts)\n",
    "#X_test_tfidf = tfidf_transformer.transform(X_test_counts)\n",
    "print(X_train_tfidf.shape)\n",
    "\n",
    "X_tfid=pd.DataFrame(X_train_tfidf.toarray(), columns=count_vectorizer.get_feature_names())\n",
    "\n",
    "max(X_tfid.max())"
   ]
  },
  {
   "cell_type": "markdown",
   "id": "5137165d",
   "metadata": {},
   "source": [
    "Transform test data"
   ]
  },
  {
   "cell_type": "code",
   "execution_count": 23,
   "id": "d4460053",
   "metadata": {},
   "outputs": [],
   "source": [
    "x_test_df[\"text_clean\"] = x_test_df[\"text\"].apply(lambda x: utils_preprocess_text(x, flg_stemm=False, flg_lemm=True, lst_stopwords=lst_stopwords))"
   ]
  },
  {
   "cell_type": "code",
   "execution_count": 24,
   "id": "dde4b0ae",
   "metadata": {},
   "outputs": [
    {
     "name": "stdout",
     "output_type": "stream",
     "text": [
      "I highly recommend this device to everyone!  -->  highly recommend device everyone\n"
     ]
    }
   ],
   "source": [
    "print(x_test_df[\"text\"].iloc[8], \" --> \", x_test_df[\"text_clean\"].iloc[8])"
   ]
  },
  {
   "cell_type": "code",
   "execution_count": 25,
   "id": "0c4eb0c9",
   "metadata": {},
   "outputs": [
    {
     "name": "stdout",
     "output_type": "stream",
     "text": [
      "Number of features:  1658\n",
      "(600, 1658)\n"
     ]
    },
    {
     "data": {
      "text/plain": [
       "1"
      ]
     },
     "execution_count": 25,
     "metadata": {},
     "output_type": "execute_result"
    }
   ],
   "source": [
    "# Binary tokenizing and counting: all non zero counts are set to 1\n",
    "te_text_list = x_test_df['text_clean'].values.tolist()\n",
    "# symmetric difference: keep words in either only pos_words or only neg_words, not in both\n",
    "#lst_words = list(set(pos_words) ^ set(neg_words))\n",
    "## count\n",
    "#lst_grams = [len(word.split(\" \")) for word in lst_words]\n",
    "#bin_vectorizer = CountVectorizer(vocabulary=lst_words, binary=True, ngram_range=(min(lst_grams),max(lst_grams)))\n",
    "\n",
    "x_te = bin_vectorizer.transform(te_text_list)\n",
    "#x_te = bin_vectorizer.fit_transform(te_text_list)\n",
    "print(\"Number of features: \", len(x_te.toarray()[0]))\n",
    "print(x_te.shape)\n",
    "#print(x_te.toarray())\n",
    "X_te_binary=pd.DataFrame(x_te.toarray(), columns=bin_vectorizer.get_feature_names())\n",
    "\n",
    "max(X_te_binary.max())"
   ]
  },
  {
   "cell_type": "code",
   "execution_count": 26,
   "id": "3a25f050",
   "metadata": {},
   "outputs": [
    {
     "data": {
      "text/plain": [
       "set()"
      ]
     },
     "execution_count": 26,
     "metadata": {},
     "output_type": "execute_result"
    }
   ],
   "source": [
    "set(bin_vectorizer.get_feature_names())^ set(lst_words)"
   ]
  },
  {
   "cell_type": "code",
   "execution_count": 27,
   "id": "cd6588b0",
   "metadata": {},
   "outputs": [
    {
     "data": {
      "text/html": [
       "<div>\n",
       "<style scoped>\n",
       "    .dataframe tbody tr th:only-of-type {\n",
       "        vertical-align: middle;\n",
       "    }\n",
       "\n",
       "    .dataframe tbody tr th {\n",
       "        vertical-align: top;\n",
       "    }\n",
       "\n",
       "    .dataframe thead th {\n",
       "        text-align: right;\n",
       "    }\n",
       "</style>\n",
       "<table border=\"1\" class=\"dataframe\">\n",
       "  <thead>\n",
       "    <tr style=\"text-align: right;\">\n",
       "      <th></th>\n",
       "      <th>edge</th>\n",
       "      <th>wait hour</th>\n",
       "      <th>indeed</th>\n",
       "      <th>utter</th>\n",
       "      <th>vision</th>\n",
       "      <th>crab leg</th>\n",
       "      <th>work week</th>\n",
       "      <th>great place</th>\n",
       "      <th>often</th>\n",
       "      <th>cost much</th>\n",
       "      <th>...</th>\n",
       "      <th>plot line</th>\n",
       "      <th>cinema</th>\n",
       "      <th>everything movie</th>\n",
       "      <th>detail</th>\n",
       "      <th>timely</th>\n",
       "      <th>long time</th>\n",
       "      <th>highly recommend</th>\n",
       "      <th>way describe</th>\n",
       "      <th>family restaurant</th>\n",
       "      <th>commercial</th>\n",
       "    </tr>\n",
       "  </thead>\n",
       "  <tbody>\n",
       "    <tr>\n",
       "      <th>0</th>\n",
       "      <td>0</td>\n",
       "      <td>0</td>\n",
       "      <td>0</td>\n",
       "      <td>0</td>\n",
       "      <td>0</td>\n",
       "      <td>0</td>\n",
       "      <td>0</td>\n",
       "      <td>0</td>\n",
       "      <td>0</td>\n",
       "      <td>0</td>\n",
       "      <td>...</td>\n",
       "      <td>0</td>\n",
       "      <td>0</td>\n",
       "      <td>0</td>\n",
       "      <td>0</td>\n",
       "      <td>0</td>\n",
       "      <td>0</td>\n",
       "      <td>0</td>\n",
       "      <td>0</td>\n",
       "      <td>0</td>\n",
       "      <td>0</td>\n",
       "    </tr>\n",
       "    <tr>\n",
       "      <th>1</th>\n",
       "      <td>0</td>\n",
       "      <td>0</td>\n",
       "      <td>0</td>\n",
       "      <td>0</td>\n",
       "      <td>0</td>\n",
       "      <td>0</td>\n",
       "      <td>0</td>\n",
       "      <td>0</td>\n",
       "      <td>0</td>\n",
       "      <td>0</td>\n",
       "      <td>...</td>\n",
       "      <td>0</td>\n",
       "      <td>0</td>\n",
       "      <td>0</td>\n",
       "      <td>0</td>\n",
       "      <td>0</td>\n",
       "      <td>0</td>\n",
       "      <td>0</td>\n",
       "      <td>0</td>\n",
       "      <td>0</td>\n",
       "      <td>0</td>\n",
       "    </tr>\n",
       "    <tr>\n",
       "      <th>2</th>\n",
       "      <td>0</td>\n",
       "      <td>0</td>\n",
       "      <td>0</td>\n",
       "      <td>0</td>\n",
       "      <td>0</td>\n",
       "      <td>0</td>\n",
       "      <td>0</td>\n",
       "      <td>0</td>\n",
       "      <td>0</td>\n",
       "      <td>0</td>\n",
       "      <td>...</td>\n",
       "      <td>0</td>\n",
       "      <td>0</td>\n",
       "      <td>0</td>\n",
       "      <td>0</td>\n",
       "      <td>0</td>\n",
       "      <td>0</td>\n",
       "      <td>0</td>\n",
       "      <td>0</td>\n",
       "      <td>0</td>\n",
       "      <td>0</td>\n",
       "    </tr>\n",
       "    <tr>\n",
       "      <th>3</th>\n",
       "      <td>0</td>\n",
       "      <td>0</td>\n",
       "      <td>0</td>\n",
       "      <td>0</td>\n",
       "      <td>0</td>\n",
       "      <td>0</td>\n",
       "      <td>0</td>\n",
       "      <td>0</td>\n",
       "      <td>0</td>\n",
       "      <td>0</td>\n",
       "      <td>...</td>\n",
       "      <td>0</td>\n",
       "      <td>0</td>\n",
       "      <td>0</td>\n",
       "      <td>0</td>\n",
       "      <td>0</td>\n",
       "      <td>0</td>\n",
       "      <td>0</td>\n",
       "      <td>0</td>\n",
       "      <td>0</td>\n",
       "      <td>0</td>\n",
       "    </tr>\n",
       "    <tr>\n",
       "      <th>4</th>\n",
       "      <td>0</td>\n",
       "      <td>0</td>\n",
       "      <td>0</td>\n",
       "      <td>0</td>\n",
       "      <td>0</td>\n",
       "      <td>0</td>\n",
       "      <td>0</td>\n",
       "      <td>0</td>\n",
       "      <td>0</td>\n",
       "      <td>0</td>\n",
       "      <td>...</td>\n",
       "      <td>0</td>\n",
       "      <td>0</td>\n",
       "      <td>0</td>\n",
       "      <td>0</td>\n",
       "      <td>0</td>\n",
       "      <td>0</td>\n",
       "      <td>0</td>\n",
       "      <td>0</td>\n",
       "      <td>0</td>\n",
       "      <td>0</td>\n",
       "    </tr>\n",
       "  </tbody>\n",
       "</table>\n",
       "<p>5 rows × 1658 columns</p>\n",
       "</div>"
      ],
      "text/plain": [
       "   edge  wait hour  indeed  utter  vision  crab leg  work week  great place  \\\n",
       "0     0          0       0      0       0         0          0            0   \n",
       "1     0          0       0      0       0         0          0            0   \n",
       "2     0          0       0      0       0         0          0            0   \n",
       "3     0          0       0      0       0         0          0            0   \n",
       "4     0          0       0      0       0         0          0            0   \n",
       "\n",
       "   often  cost much  ...  plot line  cinema  everything movie  detail  timely  \\\n",
       "0      0          0  ...          0       0                 0       0       0   \n",
       "1      0          0  ...          0       0                 0       0       0   \n",
       "2      0          0  ...          0       0                 0       0       0   \n",
       "3      0          0  ...          0       0                 0       0       0   \n",
       "4      0          0  ...          0       0                 0       0       0   \n",
       "\n",
       "   long time  highly recommend  way describe  family restaurant  commercial  \n",
       "0          0                 0             0                  0           0  \n",
       "1          0                 0             0                  0           0  \n",
       "2          0                 0             0                  0           0  \n",
       "3          0                 0             0                  0           0  \n",
       "4          0                 0             0                  0           0  \n",
       "\n",
       "[5 rows x 1658 columns]"
      ]
     },
     "execution_count": 27,
     "metadata": {},
     "output_type": "execute_result"
    }
   ],
   "source": [
    "#Dataframe \n",
    "#x_test_df.head()\n",
    "X_te_binary.head()"
   ]
  },
  {
   "cell_type": "markdown",
   "id": "5984b71e",
   "metadata": {},
   "source": [
    "### Part One: Classifying Review Sentiment with Bag-of-Words Features (70 points)\n",
    "The “Bag-of-Words” (BoW) model of a document (i.e., in this case, a single review) involves determining a known fixed vocabulary, V, in advance, imposing an order on those words, and then representing each document with a vector of length |V| that has a non-zero value at position i if the ith word in V is part of that document, and is 0 otherwise.† \n",
    "<br> †You can find some discussion of this in the material on clustering, from the end of the course, which has already been released.\n",
    "<br> You will build such a representation for your input data (train and test). Your first step will be to make some design decisions with respect to how your BoW model works; questions you will need to answer may include:\n",
    "<br>• How big is the vocabulary, and what order to you place those words into?\n",
    "<br>• Do you exclude very rare words (and what does “very rare” mean)?\n",
    "<br>• Do you exclude very common words (and what does “very common” mean)?\n",
    "<br>• Do you count the occurrences of a word in the document, or only record if it is there or not (producing a binary vector)?\n",
    "<br>• Is it worth using something other than word counts, like the inverse document frequency idea described in lecture.\n",
    "<br>• Do you use single features only, or do you try counting word-pairs instead? What about counting n-tuples of words?\n",
    "<br>Whatever you decide (and you may want to experiment) you want a representation whereby each feature of the resulting input vector corresponds to a single word (or n-tuples of words, if you go that route). Once you have decided upon your feature representation, you will investigate three distinct classifier models on the data, seeking one that gives you best performance. <br>\n",
    "Resources: there are several tools available in sklearn for creating BoW representations: features [https://scikit-learn.org/stable/modules/feature extraction.html]__"
   ]
  },
  {
   "cell_type": "markdown",
   "id": "405731d2",
   "metadata": {},
   "source": [
    "**1. (10 pts.)** \n",
    "In your report, include a paragraph or two that explain the “pipeline” for generating your BoW features. This should include a clear description of any pre-processing you did on the basic text, along with the sorts of decisions you made in generating your final feature- vectors. You should present this in complete enough form that someone else (another student, say) could produce a model identical to yours if they wished, based upon reading your report. As we have said before, keep code samples to a minimum; ideally, you should be able to explain what you did in plain language. Your paragraph should also contain some justification for why you made the decisions you did.\n",
    "\n",
    "**ANS**\n",
    "Why word count/binary is better than tf for short reviews:\n",
    "\"While the tf–idf normalization is often very useful, there might be cases where the binary occurrence markers might offer better features. This can be achieved by using the binary parameter of CountVectorizer. In particular, some estimators such as Bernoulli Naive Bayes explicitly model discrete boolean random variables. Also, very short texts are likely to have noisy tf–idf values while the binary occurrence info is more stable.\" [https://scikit-learn.org/stable/modules/feature_extraction.html]"
   ]
  },
  {
   "cell_type": "markdown",
   "id": "85f2cc73",
   "metadata": {},
   "source": [
    "**2. (15 pts.)** Generate a logistic regression model for your feature-data and use it to classify the training data. In your report:\n",
    "<br>• Give a few sentences describing the model you built, and any decision made about how you set its parameters, trained it, etc.\n",
    "<br>• Choose at least two hyperparameters that control model complexity and/or its tendency to overfit. Vary those hyperparameters in a systematic way, testing it using a cross- validation methodology (you can use libraries that search through and cross-validate different hyperparameters here if you like). Explain the hyperparameters you chose, the range of values you explored (and why), and describe the cross-validation testing in a clear enough manner that the reader could reproduce its basic form, if desired.\n",
    "<br>• Produce at least one figure that shows, for at least two tested hyperparameters, per- formance for at least 5 distinct values—this performance should be plotted in terms of average error for both training and validation data across the multiple folds, for each of the values of the hyperparameter. Include information, either in the figure, or along with it in the report, on the uncertainty in these results.‡ \n",
    "<br>‡This can be measured in terms of simply standard deviation across the k-fold cross-validation tests, or in more detail by showing exact performance metrics on each fold. The idea is to help the reader understand if the average performance is typical and stable, or if there is a lot of difference from one cross-validation test to another.\n",
    "<br>• Give a few sentences analyzing these results. Are there hyperparameter settings for which the classifier clearly does better (or worse)? Is there evidence of over-fitting at some settings?\n",
    "<br>\n",
    "10 combs Reg.: 2 solvers, 5 values of C or Regression: 5 elastic net control parameter l1, 5 values of C"
   ]
  },
  {
   "cell_type": "code",
   "execution_count": 30,
   "id": "b6bf0c90",
   "metadata": {},
   "outputs": [],
   "source": [
    "def grid_results(grid,parameter):\n",
    "    '''\n",
    "    Plot results of grid search\n",
    "    '''\n",
    "    if parameter=='param_hidden_layer_sizes':\n",
    "        parameters=[]\n",
    "        for i in range(len(grid[parameter])):\n",
    "            parameters.append(grid[parameter][i][0])\n",
    "    else:\n",
    "        parameters=grid[parameter].values\n",
    "    train_error=(1-grid['mean_train_score']).values\n",
    "    test_error=(1-grid['mean_test_score']).values\n",
    "    train_std=grid['std_train_score'].values\n",
    "    test_std=grid['std_test_score'].values\n",
    "    plt.errorbar(x=parameters,y=train_error, color='blue',label=\"Training Data\",\n",
    "            yerr=train_std,\n",
    "            fmt='-o')\n",
    "    plt.errorbar(x=parameters,y=test_error, color='red',label=\"Testing Data\",\n",
    "            yerr=test_std,\n",
    "            fmt='-o')\n",
    "    plt.title('Training and Test Data Error vs '+str(parameter))\n",
    "    plt.xlabel(str(parameter));\n",
    "    plt.ylabel('Average Error');\n",
    "    plt.legend()\n",
    "    #plt.xscale('log')\n",
    "    plt.show()\n",
    "    print('Ave. train std. dev= ',np.round(np.mean(train_std),3))\n",
    "    print('Ave. test std. dev= ',np.round(np.mean(test_std),3))\n",
    "    #return text"
   ]
  },
  {
   "cell_type": "code",
   "execution_count": 132,
   "id": "6a491af0",
   "metadata": {},
   "outputs": [],
   "source": [
    "#Load the data\n",
    "X=X_binary \n",
    "y=np.ravel(y_train_df)\n",
    "\n",
    "#Initialize the classifier\n",
    "#log_reg = LogisticRegression(penalty='elasticnet',solver='saga',max_iter=500)\n",
    "log_reg = LogisticRegression(penalty='elasticnet',solver='saga',max_iter=800,l1_ratio=0.0)\n",
    "\n",
    "\n",
    "# Create param grid\n",
    "#param_grid = {'l1_ratio':np.arange(0,1.2,0.2)}\n",
    "param_grid = {'C':np.logspace(-7, 1, 20)}\n",
    "#param_grid = {'C':np.logspace(-9, 2, 20),'l1_ratio':np.arange(0,1.2,0.2)}\n",
    "\n",
    "# Create grid search object, use cross data validation\n",
    "clf= GridSearchCV(log_reg, param_grid, scoring='accuracy',\n",
    "                  n_jobs=-1, cv=5, return_train_score=True)\n",
    "#clf =RandomizedSearchCV(log_reg, param_distributions=param_grid,\n",
    " #                       n_iter=50, scoring=\"accuracy\", #random_state=0,\n",
    "  #                      n_jobs=-1, cv=5, return_train_score=True, pre_dispatch=2)\n",
    "\n",
    "# Fit on data (on X since we use cross data validation)\n",
    "best_clf = clf.fit(X, y)"
   ]
  },
  {
   "cell_type": "code",
   "execution_count": 133,
   "id": "cc30ba7a",
   "metadata": {},
   "outputs": [
    {
     "name": "stdout",
     "output_type": "stream",
     "text": [
      "0.08125000000000004\n",
      "LogisticRegression(C=0.20691380811147903, l1_ratio=0.0, max_iter=800,\n",
      "                   penalty='elasticnet', solver='saga')\n"
     ]
    },
    {
     "data": {
      "text/plain": [
       "{'C': 0.20691380811147903}"
      ]
     },
     "execution_count": 133,
     "metadata": {},
     "output_type": "execute_result"
    }
   ],
   "source": [
    "print(1-best_clf.score(X, y))\n",
    "print(best_clf.best_estimator_)\n",
    "best_clf.best_params_"
   ]
  },
  {
   "cell_type": "code",
   "execution_count": null,
   "id": "37402a3b",
   "metadata": {},
   "outputs": [],
   "source": [
    "model=LogisticRegression(C=0.20691380811147903, l1_ratio=0.0, max_iter=800,\n",
    "                   penalty='elasticnet', solver='saga')\n",
    "\n",
    "model.fit(X, y)\n",
    "\n",
    "y_pred = rs.best_estimator_.predict(X_test) # Predictions\n",
    "y_true = y_test # True values\n",
    "\n",
    "print(\"Test accuracy:\", np.round(accuracy_score(y_true, y_pred), 2))\n",
    "cf_matrix = confusion_matrix(y_true, y_pred)\n",
    "import seaborn as sns\n",
    "import matplotlib.pyplot as plt\n",
    "sns.heatmap(cf_matrix, annot=True, cmap='Blues')\n",
    "plt.xlabel('Predicted')\n",
    "plt.ylabel('True')"
   ]
  },
  {
   "cell_type": "code",
   "execution_count": 165,
   "id": "2ced6f5a",
   "metadata": {},
   "outputs": [
    {
     "data": {
      "text/plain": [
       "600"
      ]
     },
     "execution_count": 165,
     "metadata": {},
     "output_type": "execute_result"
    }
   ],
   "source": [
    "#model = LogisticRegression(C=0.23357214690901212,penalty= 'l2',solver='sag')\n",
    "model=LogisticRegression(C=0.20691380811147903, l1_ratio=0.0, max_iter=800,\n",
    "                   penalty='elasticnet', solver='saga')\n",
    "model.fit(X, y)\n",
    "yproba1_test=model.predict(X_te_binary)\n",
    "len(yproba1_test)\n",
    "\n",
    "#ldb best error=0 2nd best=0.153, accuracy=0.847\n",
    "\n",
    "#test error=0.24833 accuracy=0.75167"
   ]
  },
  {
   "cell_type": "code",
   "execution_count": 139,
   "id": "e03cbf07",
   "metadata": {},
   "outputs": [],
   "source": [
    "np.savetxt('yproba1_log.txt', yproba1_test) "
   ]
  },
  {
   "cell_type": "code",
   "execution_count": 159,
   "id": "fbc6ba7a",
   "metadata": {},
   "outputs": [
    {
     "data": {
      "text/html": [
       "<div>\n",
       "<style scoped>\n",
       "    .dataframe tbody tr th:only-of-type {\n",
       "        vertical-align: middle;\n",
       "    }\n",
       "\n",
       "    .dataframe tbody tr th {\n",
       "        vertical-align: top;\n",
       "    }\n",
       "\n",
       "    .dataframe thead th {\n",
       "        text-align: right;\n",
       "    }\n",
       "</style>\n",
       "<table border=\"1\" class=\"dataframe\">\n",
       "  <thead>\n",
       "    <tr style=\"text-align: right;\">\n",
       "      <th></th>\n",
       "      <th>mean_fit_time</th>\n",
       "      <th>std_fit_time</th>\n",
       "      <th>mean_score_time</th>\n",
       "      <th>std_score_time</th>\n",
       "      <th>param_C</th>\n",
       "      <th>params</th>\n",
       "      <th>split0_test_score</th>\n",
       "      <th>split1_test_score</th>\n",
       "      <th>split2_test_score</th>\n",
       "      <th>split3_test_score</th>\n",
       "      <th>...</th>\n",
       "      <th>mean_test_score</th>\n",
       "      <th>std_test_score</th>\n",
       "      <th>rank_test_score</th>\n",
       "      <th>split0_train_score</th>\n",
       "      <th>split1_train_score</th>\n",
       "      <th>split2_train_score</th>\n",
       "      <th>split3_train_score</th>\n",
       "      <th>split4_train_score</th>\n",
       "      <th>mean_train_score</th>\n",
       "      <th>std_train_score</th>\n",
       "    </tr>\n",
       "  </thead>\n",
       "  <tbody>\n",
       "    <tr>\n",
       "      <th>0</th>\n",
       "      <td>2.024701</td>\n",
       "      <td>0.125202</td>\n",
       "      <td>0.021587</td>\n",
       "      <td>0.007888</td>\n",
       "      <td>0.0</td>\n",
       "      <td>{'C': 1e-07}</td>\n",
       "      <td>0.500000</td>\n",
       "      <td>0.500000</td>\n",
       "      <td>0.500000</td>\n",
       "      <td>0.500000</td>\n",
       "      <td>...</td>\n",
       "      <td>0.500000</td>\n",
       "      <td>0.000000</td>\n",
       "      <td>19</td>\n",
       "      <td>0.500000</td>\n",
       "      <td>0.500000</td>\n",
       "      <td>0.500000</td>\n",
       "      <td>0.500000</td>\n",
       "      <td>0.500000</td>\n",
       "      <td>0.500000</td>\n",
       "      <td>0.000000</td>\n",
       "    </tr>\n",
       "    <tr>\n",
       "      <th>1</th>\n",
       "      <td>1.509498</td>\n",
       "      <td>0.284031</td>\n",
       "      <td>0.017162</td>\n",
       "      <td>0.003949</td>\n",
       "      <td>0.0</td>\n",
       "      <td>{'C': 2.6366508987303554e-07}</td>\n",
       "      <td>0.500000</td>\n",
       "      <td>0.500000</td>\n",
       "      <td>0.500000</td>\n",
       "      <td>0.500000</td>\n",
       "      <td>...</td>\n",
       "      <td>0.500000</td>\n",
       "      <td>0.000000</td>\n",
       "      <td>19</td>\n",
       "      <td>0.500000</td>\n",
       "      <td>0.500000</td>\n",
       "      <td>0.500000</td>\n",
       "      <td>0.500000</td>\n",
       "      <td>0.500000</td>\n",
       "      <td>0.500000</td>\n",
       "      <td>0.000000</td>\n",
       "    </tr>\n",
       "    <tr>\n",
       "      <th>2</th>\n",
       "      <td>1.059579</td>\n",
       "      <td>0.074887</td>\n",
       "      <td>0.018797</td>\n",
       "      <td>0.002205</td>\n",
       "      <td>0.000001</td>\n",
       "      <td>{'C': 6.951927961775605e-07}</td>\n",
       "      <td>0.500000</td>\n",
       "      <td>0.500000</td>\n",
       "      <td>0.500000</td>\n",
       "      <td>0.500000</td>\n",
       "      <td>...</td>\n",
       "      <td>0.500833</td>\n",
       "      <td>0.001667</td>\n",
       "      <td>18</td>\n",
       "      <td>0.500000</td>\n",
       "      <td>0.500000</td>\n",
       "      <td>0.500000</td>\n",
       "      <td>0.500000</td>\n",
       "      <td>0.506250</td>\n",
       "      <td>0.501250</td>\n",
       "      <td>0.002500</td>\n",
       "    </tr>\n",
       "    <tr>\n",
       "      <th>3</th>\n",
       "      <td>0.625354</td>\n",
       "      <td>0.031978</td>\n",
       "      <td>0.017009</td>\n",
       "      <td>0.005649</td>\n",
       "      <td>0.000002</td>\n",
       "      <td>{'C': 1.8329807108324375e-06}</td>\n",
       "      <td>0.804167</td>\n",
       "      <td>0.712500</td>\n",
       "      <td>0.579167</td>\n",
       "      <td>0.675000</td>\n",
       "      <td>...</td>\n",
       "      <td>0.690833</td>\n",
       "      <td>0.072236</td>\n",
       "      <td>17</td>\n",
       "      <td>0.897396</td>\n",
       "      <td>0.809896</td>\n",
       "      <td>0.632292</td>\n",
       "      <td>0.776042</td>\n",
       "      <td>0.767188</td>\n",
       "      <td>0.776563</td>\n",
       "      <td>0.085573</td>\n",
       "    </tr>\n",
       "    <tr>\n",
       "      <th>4</th>\n",
       "      <td>0.542828</td>\n",
       "      <td>0.042109</td>\n",
       "      <td>0.022056</td>\n",
       "      <td>0.006568</td>\n",
       "      <td>0.000005</td>\n",
       "      <td>{'C': 4.832930238571752e-06}</td>\n",
       "      <td>0.804167</td>\n",
       "      <td>0.852083</td>\n",
       "      <td>0.827083</td>\n",
       "      <td>0.847917</td>\n",
       "      <td>...</td>\n",
       "      <td>0.835417</td>\n",
       "      <td>0.017824</td>\n",
       "      <td>5</td>\n",
       "      <td>0.897396</td>\n",
       "      <td>0.913542</td>\n",
       "      <td>0.911458</td>\n",
       "      <td>0.915104</td>\n",
       "      <td>0.913542</td>\n",
       "      <td>0.910208</td>\n",
       "      <td>0.006510</td>\n",
       "    </tr>\n",
       "    <tr>\n",
       "      <th>5</th>\n",
       "      <td>0.544232</td>\n",
       "      <td>0.027451</td>\n",
       "      <td>0.014065</td>\n",
       "      <td>0.004047</td>\n",
       "      <td>0.000013</td>\n",
       "      <td>{'C': 1.274274985703132e-05}</td>\n",
       "      <td>0.804167</td>\n",
       "      <td>0.839583</td>\n",
       "      <td>0.818750</td>\n",
       "      <td>0.833333</td>\n",
       "      <td>...</td>\n",
       "      <td>0.828333</td>\n",
       "      <td>0.015058</td>\n",
       "      <td>7</td>\n",
       "      <td>0.897396</td>\n",
       "      <td>0.896354</td>\n",
       "      <td>0.904687</td>\n",
       "      <td>0.901042</td>\n",
       "      <td>0.913542</td>\n",
       "      <td>0.902604</td>\n",
       "      <td>0.006206</td>\n",
       "    </tr>\n",
       "    <tr>\n",
       "      <th>6</th>\n",
       "      <td>0.634463</td>\n",
       "      <td>0.058047</td>\n",
       "      <td>0.021480</td>\n",
       "      <td>0.005681</td>\n",
       "      <td>0.000034</td>\n",
       "      <td>{'C': 3.359818286283781e-05}</td>\n",
       "      <td>0.804167</td>\n",
       "      <td>0.839583</td>\n",
       "      <td>0.818750</td>\n",
       "      <td>0.833333</td>\n",
       "      <td>...</td>\n",
       "      <td>0.825417</td>\n",
       "      <td>0.012597</td>\n",
       "      <td>10</td>\n",
       "      <td>0.897396</td>\n",
       "      <td>0.896354</td>\n",
       "      <td>0.904687</td>\n",
       "      <td>0.901042</td>\n",
       "      <td>0.896875</td>\n",
       "      <td>0.899271</td>\n",
       "      <td>0.003170</td>\n",
       "    </tr>\n",
       "    <tr>\n",
       "      <th>7</th>\n",
       "      <td>0.627129</td>\n",
       "      <td>0.061204</td>\n",
       "      <td>0.023350</td>\n",
       "      <td>0.009263</td>\n",
       "      <td>0.000089</td>\n",
       "      <td>{'C': 8.858667904100833e-05}</td>\n",
       "      <td>0.804167</td>\n",
       "      <td>0.839583</td>\n",
       "      <td>0.818750</td>\n",
       "      <td>0.833333</td>\n",
       "      <td>...</td>\n",
       "      <td>0.825417</td>\n",
       "      <td>0.012597</td>\n",
       "      <td>10</td>\n",
       "      <td>0.897396</td>\n",
       "      <td>0.896354</td>\n",
       "      <td>0.904687</td>\n",
       "      <td>0.901042</td>\n",
       "      <td>0.896875</td>\n",
       "      <td>0.899271</td>\n",
       "      <td>0.003170</td>\n",
       "    </tr>\n",
       "    <tr>\n",
       "      <th>8</th>\n",
       "      <td>0.637468</td>\n",
       "      <td>0.065458</td>\n",
       "      <td>0.017469</td>\n",
       "      <td>0.002697</td>\n",
       "      <td>0.000234</td>\n",
       "      <td>{'C': 0.00023357214690901214}</td>\n",
       "      <td>0.804167</td>\n",
       "      <td>0.839583</td>\n",
       "      <td>0.818750</td>\n",
       "      <td>0.833333</td>\n",
       "      <td>...</td>\n",
       "      <td>0.825417</td>\n",
       "      <td>0.012597</td>\n",
       "      <td>10</td>\n",
       "      <td>0.897396</td>\n",
       "      <td>0.896354</td>\n",
       "      <td>0.904687</td>\n",
       "      <td>0.901042</td>\n",
       "      <td>0.896875</td>\n",
       "      <td>0.899271</td>\n",
       "      <td>0.003170</td>\n",
       "    </tr>\n",
       "    <tr>\n",
       "      <th>9</th>\n",
       "      <td>0.634646</td>\n",
       "      <td>0.023408</td>\n",
       "      <td>0.019954</td>\n",
       "      <td>0.006828</td>\n",
       "      <td>0.000616</td>\n",
       "      <td>{'C': 0.0006158482110660261}</td>\n",
       "      <td>0.804167</td>\n",
       "      <td>0.839583</td>\n",
       "      <td>0.818750</td>\n",
       "      <td>0.833333</td>\n",
       "      <td>...</td>\n",
       "      <td>0.825417</td>\n",
       "      <td>0.012597</td>\n",
       "      <td>10</td>\n",
       "      <td>0.897396</td>\n",
       "      <td>0.896354</td>\n",
       "      <td>0.904687</td>\n",
       "      <td>0.901042</td>\n",
       "      <td>0.896875</td>\n",
       "      <td>0.899271</td>\n",
       "      <td>0.003170</td>\n",
       "    </tr>\n",
       "    <tr>\n",
       "      <th>10</th>\n",
       "      <td>0.657210</td>\n",
       "      <td>0.060874</td>\n",
       "      <td>0.018336</td>\n",
       "      <td>0.003346</td>\n",
       "      <td>0.001624</td>\n",
       "      <td>{'C': 0.001623776739188721}</td>\n",
       "      <td>0.804167</td>\n",
       "      <td>0.839583</td>\n",
       "      <td>0.818750</td>\n",
       "      <td>0.833333</td>\n",
       "      <td>...</td>\n",
       "      <td>0.825417</td>\n",
       "      <td>0.012597</td>\n",
       "      <td>10</td>\n",
       "      <td>0.897396</td>\n",
       "      <td>0.896354</td>\n",
       "      <td>0.904687</td>\n",
       "      <td>0.901042</td>\n",
       "      <td>0.896875</td>\n",
       "      <td>0.899271</td>\n",
       "      <td>0.003170</td>\n",
       "    </tr>\n",
       "    <tr>\n",
       "      <th>11</th>\n",
       "      <td>0.591812</td>\n",
       "      <td>0.027323</td>\n",
       "      <td>0.016469</td>\n",
       "      <td>0.002781</td>\n",
       "      <td>0.004281</td>\n",
       "      <td>{'C': 0.004281332398719396}</td>\n",
       "      <td>0.804167</td>\n",
       "      <td>0.839583</td>\n",
       "      <td>0.818750</td>\n",
       "      <td>0.833333</td>\n",
       "      <td>...</td>\n",
       "      <td>0.825417</td>\n",
       "      <td>0.012597</td>\n",
       "      <td>10</td>\n",
       "      <td>0.897396</td>\n",
       "      <td>0.896354</td>\n",
       "      <td>0.904687</td>\n",
       "      <td>0.901042</td>\n",
       "      <td>0.896875</td>\n",
       "      <td>0.899271</td>\n",
       "      <td>0.003170</td>\n",
       "    </tr>\n",
       "    <tr>\n",
       "      <th>12</th>\n",
       "      <td>0.614822</td>\n",
       "      <td>0.028998</td>\n",
       "      <td>0.018054</td>\n",
       "      <td>0.007384</td>\n",
       "      <td>0.011288</td>\n",
       "      <td>{'C': 0.011288378916846883}</td>\n",
       "      <td>0.804167</td>\n",
       "      <td>0.839583</td>\n",
       "      <td>0.818750</td>\n",
       "      <td>0.833333</td>\n",
       "      <td>...</td>\n",
       "      <td>0.825417</td>\n",
       "      <td>0.012597</td>\n",
       "      <td>10</td>\n",
       "      <td>0.897396</td>\n",
       "      <td>0.896354</td>\n",
       "      <td>0.904687</td>\n",
       "      <td>0.901042</td>\n",
       "      <td>0.896875</td>\n",
       "      <td>0.899271</td>\n",
       "      <td>0.003170</td>\n",
       "    </tr>\n",
       "    <tr>\n",
       "      <th>13</th>\n",
       "      <td>0.619480</td>\n",
       "      <td>0.038042</td>\n",
       "      <td>0.017270</td>\n",
       "      <td>0.007634</td>\n",
       "      <td>0.029764</td>\n",
       "      <td>{'C': 0.02976351441631313}</td>\n",
       "      <td>0.804167</td>\n",
       "      <td>0.839583</td>\n",
       "      <td>0.820833</td>\n",
       "      <td>0.833333</td>\n",
       "      <td>...</td>\n",
       "      <td>0.825833</td>\n",
       "      <td>0.012402</td>\n",
       "      <td>9</td>\n",
       "      <td>0.898438</td>\n",
       "      <td>0.896354</td>\n",
       "      <td>0.905208</td>\n",
       "      <td>0.902083</td>\n",
       "      <td>0.896875</td>\n",
       "      <td>0.899792</td>\n",
       "      <td>0.003369</td>\n",
       "    </tr>\n",
       "    <tr>\n",
       "      <th>14</th>\n",
       "      <td>0.600323</td>\n",
       "      <td>0.053282</td>\n",
       "      <td>0.018996</td>\n",
       "      <td>0.006978</td>\n",
       "      <td>0.078476</td>\n",
       "      <td>{'C': 0.07847599703514607}</td>\n",
       "      <td>0.810417</td>\n",
       "      <td>0.839583</td>\n",
       "      <td>0.820833</td>\n",
       "      <td>0.841667</td>\n",
       "      <td>...</td>\n",
       "      <td>0.827917</td>\n",
       "      <td>0.011682</td>\n",
       "      <td>8</td>\n",
       "      <td>0.903646</td>\n",
       "      <td>0.900000</td>\n",
       "      <td>0.909375</td>\n",
       "      <td>0.906771</td>\n",
       "      <td>0.900521</td>\n",
       "      <td>0.904062</td>\n",
       "      <td>0.003599</td>\n",
       "    </tr>\n",
       "    <tr>\n",
       "      <th>15</th>\n",
       "      <td>0.725974</td>\n",
       "      <td>0.022093</td>\n",
       "      <td>0.018508</td>\n",
       "      <td>0.004731</td>\n",
       "      <td>0.206914</td>\n",
       "      <td>{'C': 0.20691380811147903}</td>\n",
       "      <td>0.856250</td>\n",
       "      <td>0.850000</td>\n",
       "      <td>0.854167</td>\n",
       "      <td>0.850000</td>\n",
       "      <td>...</td>\n",
       "      <td>0.850000</td>\n",
       "      <td>0.005743</td>\n",
       "      <td>1</td>\n",
       "      <td>0.922917</td>\n",
       "      <td>0.921875</td>\n",
       "      <td>0.920312</td>\n",
       "      <td>0.921354</td>\n",
       "      <td>0.903646</td>\n",
       "      <td>0.918021</td>\n",
       "      <td>0.007236</td>\n",
       "    </tr>\n",
       "    <tr>\n",
       "      <th>16</th>\n",
       "      <td>1.308827</td>\n",
       "      <td>0.102001</td>\n",
       "      <td>0.020717</td>\n",
       "      <td>0.007353</td>\n",
       "      <td>0.545559</td>\n",
       "      <td>{'C': 0.5455594781168515}</td>\n",
       "      <td>0.852083</td>\n",
       "      <td>0.843750</td>\n",
       "      <td>0.856250</td>\n",
       "      <td>0.845833</td>\n",
       "      <td>...</td>\n",
       "      <td>0.849583</td>\n",
       "      <td>0.004449</td>\n",
       "      <td>2</td>\n",
       "      <td>0.926562</td>\n",
       "      <td>0.925000</td>\n",
       "      <td>0.922917</td>\n",
       "      <td>0.925521</td>\n",
       "      <td>0.925000</td>\n",
       "      <td>0.925000</td>\n",
       "      <td>0.001188</td>\n",
       "    </tr>\n",
       "    <tr>\n",
       "      <th>17</th>\n",
       "      <td>2.264475</td>\n",
       "      <td>0.119497</td>\n",
       "      <td>0.021401</td>\n",
       "      <td>0.006857</td>\n",
       "      <td>1.43845</td>\n",
       "      <td>{'C': 1.43844988828766}</td>\n",
       "      <td>0.847917</td>\n",
       "      <td>0.843750</td>\n",
       "      <td>0.839583</td>\n",
       "      <td>0.835417</td>\n",
       "      <td>...</td>\n",
       "      <td>0.842917</td>\n",
       "      <td>0.004859</td>\n",
       "      <td>3</td>\n",
       "      <td>0.932813</td>\n",
       "      <td>0.930208</td>\n",
       "      <td>0.927083</td>\n",
       "      <td>0.932813</td>\n",
       "      <td>0.930729</td>\n",
       "      <td>0.930729</td>\n",
       "      <td>0.002109</td>\n",
       "    </tr>\n",
       "    <tr>\n",
       "      <th>18</th>\n",
       "      <td>4.303293</td>\n",
       "      <td>0.187250</td>\n",
       "      <td>0.014530</td>\n",
       "      <td>0.004474</td>\n",
       "      <td>3.79269</td>\n",
       "      <td>{'C': 3.792690190732246}</td>\n",
       "      <td>0.845833</td>\n",
       "      <td>0.843750</td>\n",
       "      <td>0.829167</td>\n",
       "      <td>0.827083</td>\n",
       "      <td>...</td>\n",
       "      <td>0.838333</td>\n",
       "      <td>0.008396</td>\n",
       "      <td>4</td>\n",
       "      <td>0.936979</td>\n",
       "      <td>0.937500</td>\n",
       "      <td>0.933854</td>\n",
       "      <td>0.937500</td>\n",
       "      <td>0.936979</td>\n",
       "      <td>0.936563</td>\n",
       "      <td>0.001374</td>\n",
       "    </tr>\n",
       "    <tr>\n",
       "      <th>19</th>\n",
       "      <td>6.795088</td>\n",
       "      <td>0.716663</td>\n",
       "      <td>0.010914</td>\n",
       "      <td>0.002580</td>\n",
       "      <td>10.0</td>\n",
       "      <td>{'C': 10.0}</td>\n",
       "      <td>0.841667</td>\n",
       "      <td>0.827083</td>\n",
       "      <td>0.820833</td>\n",
       "      <td>0.820833</td>\n",
       "      <td>...</td>\n",
       "      <td>0.829583</td>\n",
       "      <td>0.008580</td>\n",
       "      <td>6</td>\n",
       "      <td>0.940104</td>\n",
       "      <td>0.942187</td>\n",
       "      <td>0.936458</td>\n",
       "      <td>0.940104</td>\n",
       "      <td>0.940104</td>\n",
       "      <td>0.939792</td>\n",
       "      <td>0.001852</td>\n",
       "    </tr>\n",
       "  </tbody>\n",
       "</table>\n",
       "<p>20 rows × 21 columns</p>\n",
       "</div>"
      ],
      "text/plain": [
       "    mean_fit_time  std_fit_time  mean_score_time  std_score_time   param_C  \\\n",
       "0        2.024701      0.125202         0.021587        0.007888       0.0   \n",
       "1        1.509498      0.284031         0.017162        0.003949       0.0   \n",
       "2        1.059579      0.074887         0.018797        0.002205  0.000001   \n",
       "3        0.625354      0.031978         0.017009        0.005649  0.000002   \n",
       "4        0.542828      0.042109         0.022056        0.006568  0.000005   \n",
       "5        0.544232      0.027451         0.014065        0.004047  0.000013   \n",
       "6        0.634463      0.058047         0.021480        0.005681  0.000034   \n",
       "7        0.627129      0.061204         0.023350        0.009263  0.000089   \n",
       "8        0.637468      0.065458         0.017469        0.002697  0.000234   \n",
       "9        0.634646      0.023408         0.019954        0.006828  0.000616   \n",
       "10       0.657210      0.060874         0.018336        0.003346  0.001624   \n",
       "11       0.591812      0.027323         0.016469        0.002781  0.004281   \n",
       "12       0.614822      0.028998         0.018054        0.007384  0.011288   \n",
       "13       0.619480      0.038042         0.017270        0.007634  0.029764   \n",
       "14       0.600323      0.053282         0.018996        0.006978  0.078476   \n",
       "15       0.725974      0.022093         0.018508        0.004731  0.206914   \n",
       "16       1.308827      0.102001         0.020717        0.007353  0.545559   \n",
       "17       2.264475      0.119497         0.021401        0.006857   1.43845   \n",
       "18       4.303293      0.187250         0.014530        0.004474   3.79269   \n",
       "19       6.795088      0.716663         0.010914        0.002580      10.0   \n",
       "\n",
       "                           params  split0_test_score  split1_test_score  \\\n",
       "0                    {'C': 1e-07}           0.500000           0.500000   \n",
       "1   {'C': 2.6366508987303554e-07}           0.500000           0.500000   \n",
       "2    {'C': 6.951927961775605e-07}           0.500000           0.500000   \n",
       "3   {'C': 1.8329807108324375e-06}           0.804167           0.712500   \n",
       "4    {'C': 4.832930238571752e-06}           0.804167           0.852083   \n",
       "5    {'C': 1.274274985703132e-05}           0.804167           0.839583   \n",
       "6    {'C': 3.359818286283781e-05}           0.804167           0.839583   \n",
       "7    {'C': 8.858667904100833e-05}           0.804167           0.839583   \n",
       "8   {'C': 0.00023357214690901214}           0.804167           0.839583   \n",
       "9    {'C': 0.0006158482110660261}           0.804167           0.839583   \n",
       "10    {'C': 0.001623776739188721}           0.804167           0.839583   \n",
       "11    {'C': 0.004281332398719396}           0.804167           0.839583   \n",
       "12    {'C': 0.011288378916846883}           0.804167           0.839583   \n",
       "13     {'C': 0.02976351441631313}           0.804167           0.839583   \n",
       "14     {'C': 0.07847599703514607}           0.810417           0.839583   \n",
       "15     {'C': 0.20691380811147903}           0.856250           0.850000   \n",
       "16      {'C': 0.5455594781168515}           0.852083           0.843750   \n",
       "17        {'C': 1.43844988828766}           0.847917           0.843750   \n",
       "18       {'C': 3.792690190732246}           0.845833           0.843750   \n",
       "19                    {'C': 10.0}           0.841667           0.827083   \n",
       "\n",
       "    split2_test_score  split3_test_score  ...  mean_test_score  \\\n",
       "0            0.500000           0.500000  ...         0.500000   \n",
       "1            0.500000           0.500000  ...         0.500000   \n",
       "2            0.500000           0.500000  ...         0.500833   \n",
       "3            0.579167           0.675000  ...         0.690833   \n",
       "4            0.827083           0.847917  ...         0.835417   \n",
       "5            0.818750           0.833333  ...         0.828333   \n",
       "6            0.818750           0.833333  ...         0.825417   \n",
       "7            0.818750           0.833333  ...         0.825417   \n",
       "8            0.818750           0.833333  ...         0.825417   \n",
       "9            0.818750           0.833333  ...         0.825417   \n",
       "10           0.818750           0.833333  ...         0.825417   \n",
       "11           0.818750           0.833333  ...         0.825417   \n",
       "12           0.818750           0.833333  ...         0.825417   \n",
       "13           0.820833           0.833333  ...         0.825833   \n",
       "14           0.820833           0.841667  ...         0.827917   \n",
       "15           0.854167           0.850000  ...         0.850000   \n",
       "16           0.856250           0.845833  ...         0.849583   \n",
       "17           0.839583           0.835417  ...         0.842917   \n",
       "18           0.829167           0.827083  ...         0.838333   \n",
       "19           0.820833           0.820833  ...         0.829583   \n",
       "\n",
       "    std_test_score  rank_test_score  split0_train_score  split1_train_score  \\\n",
       "0         0.000000               19            0.500000            0.500000   \n",
       "1         0.000000               19            0.500000            0.500000   \n",
       "2         0.001667               18            0.500000            0.500000   \n",
       "3         0.072236               17            0.897396            0.809896   \n",
       "4         0.017824                5            0.897396            0.913542   \n",
       "5         0.015058                7            0.897396            0.896354   \n",
       "6         0.012597               10            0.897396            0.896354   \n",
       "7         0.012597               10            0.897396            0.896354   \n",
       "8         0.012597               10            0.897396            0.896354   \n",
       "9         0.012597               10            0.897396            0.896354   \n",
       "10        0.012597               10            0.897396            0.896354   \n",
       "11        0.012597               10            0.897396            0.896354   \n",
       "12        0.012597               10            0.897396            0.896354   \n",
       "13        0.012402                9            0.898438            0.896354   \n",
       "14        0.011682                8            0.903646            0.900000   \n",
       "15        0.005743                1            0.922917            0.921875   \n",
       "16        0.004449                2            0.926562            0.925000   \n",
       "17        0.004859                3            0.932813            0.930208   \n",
       "18        0.008396                4            0.936979            0.937500   \n",
       "19        0.008580                6            0.940104            0.942187   \n",
       "\n",
       "    split2_train_score  split3_train_score  split4_train_score  \\\n",
       "0             0.500000            0.500000            0.500000   \n",
       "1             0.500000            0.500000            0.500000   \n",
       "2             0.500000            0.500000            0.506250   \n",
       "3             0.632292            0.776042            0.767188   \n",
       "4             0.911458            0.915104            0.913542   \n",
       "5             0.904687            0.901042            0.913542   \n",
       "6             0.904687            0.901042            0.896875   \n",
       "7             0.904687            0.901042            0.896875   \n",
       "8             0.904687            0.901042            0.896875   \n",
       "9             0.904687            0.901042            0.896875   \n",
       "10            0.904687            0.901042            0.896875   \n",
       "11            0.904687            0.901042            0.896875   \n",
       "12            0.904687            0.901042            0.896875   \n",
       "13            0.905208            0.902083            0.896875   \n",
       "14            0.909375            0.906771            0.900521   \n",
       "15            0.920312            0.921354            0.903646   \n",
       "16            0.922917            0.925521            0.925000   \n",
       "17            0.927083            0.932813            0.930729   \n",
       "18            0.933854            0.937500            0.936979   \n",
       "19            0.936458            0.940104            0.940104   \n",
       "\n",
       "    mean_train_score  std_train_score  \n",
       "0           0.500000         0.000000  \n",
       "1           0.500000         0.000000  \n",
       "2           0.501250         0.002500  \n",
       "3           0.776563         0.085573  \n",
       "4           0.910208         0.006510  \n",
       "5           0.902604         0.006206  \n",
       "6           0.899271         0.003170  \n",
       "7           0.899271         0.003170  \n",
       "8           0.899271         0.003170  \n",
       "9           0.899271         0.003170  \n",
       "10          0.899271         0.003170  \n",
       "11          0.899271         0.003170  \n",
       "12          0.899271         0.003170  \n",
       "13          0.899792         0.003369  \n",
       "14          0.904062         0.003599  \n",
       "15          0.918021         0.007236  \n",
       "16          0.925000         0.001188  \n",
       "17          0.930729         0.002109  \n",
       "18          0.936563         0.001374  \n",
       "19          0.939792         0.001852  \n",
       "\n",
       "[20 rows x 21 columns]"
      ]
     },
     "execution_count": 159,
     "metadata": {},
     "output_type": "execute_result"
    }
   ],
   "source": [
    "#log_reg_l1r=pd.DataFrame(best_clf.cv_results_)\n",
    "#log_reg_l1r\n",
    "#log_reg_C=pd.DataFrame(best_clf.cv_results_)\n",
    "#log_reg_C\n",
    "log_reg_best=pd.DataFrame(best_clf.cv_results_)\n",
    "log_reg_best[log_reg_best['param_C']==0.20691380811147903]#['mean_test_score']\n",
    "log_reg_best"
   ]
  },
  {
   "cell_type": "code",
   "execution_count": 130,
   "id": "7ac04278",
   "metadata": {},
   "outputs": [
    {
     "ename": "NameError",
     "evalue": "name 'log_reg_l1r' is not defined",
     "output_type": "error",
     "traceback": [
      "\u001b[0;31m---------------------------------------------------------------------------\u001b[0m",
      "\u001b[0;31mNameError\u001b[0m                                 Traceback (most recent call last)",
      "\u001b[0;32m<ipython-input-130-4bc1b79ef22e>\u001b[0m in \u001b[0;36m<module>\u001b[0;34m\u001b[0m\n\u001b[1;32m      1\u001b[0m \u001b[0;31m#C=1, varyin l1 ratio\u001b[0m\u001b[0;34m\u001b[0m\u001b[0;34m\u001b[0m\u001b[0;34m\u001b[0m\u001b[0m\n\u001b[1;32m      2\u001b[0m \u001b[0mparameter\u001b[0m\u001b[0;34m=\u001b[0m\u001b[0;34m'param_l1_ratio'\u001b[0m\u001b[0;34m\u001b[0m\u001b[0;34m\u001b[0m\u001b[0m\n\u001b[0;32m----> 3\u001b[0;31m \u001b[0mgrid_results\u001b[0m\u001b[0;34m(\u001b[0m\u001b[0mlog_reg_l1r\u001b[0m\u001b[0;34m,\u001b[0m\u001b[0mparameter\u001b[0m\u001b[0;34m=\u001b[0m\u001b[0mparameter\u001b[0m\u001b[0;34m)\u001b[0m\u001b[0;34m\u001b[0m\u001b[0;34m\u001b[0m\u001b[0m\n\u001b[0m",
      "\u001b[0;31mNameError\u001b[0m: name 'log_reg_l1r' is not defined"
     ]
    }
   ],
   "source": [
    "#C=1, varyin l1 ratio\n",
    "parameter='param_l1_ratio'\n",
    "grid_results(log_reg_l1r,parameter=parameter)"
   ]
  },
  {
   "cell_type": "code",
   "execution_count": 136,
   "id": "90dda3f3",
   "metadata": {},
   "outputs": [
    {
     "data": {
      "image/png": "[encoded data removed]",
      "text/plain": [
       "<Figure size 576x396 with 1 Axes>"
      ]
     },
     "metadata": {},
     "output_type": "display_data"
    },
    {
     "name": "stdout",
     "output_type": "stream",
     "text": [
      "Ave. train std. dev=  0.006\n",
      "Ave. test std. dev=  0.011\n"
     ]
    }
   ],
   "source": [
    "#varying C, l1 ratio=0.0\n",
    "parameter='param_C'\n",
    "plt.xscale('log')\n",
    "grid_results(log_reg_C,parameter=parameter)"
   ]
  },
  {
   "cell_type": "markdown",
   "id": "1dc82425",
   "metadata": {},
   "source": [
    "**3. (15 pts.)** Generate a neural network (or MLP) model for your feature-data. Produce the same sort of description and analysis for it as you did for the previous model, including variation of two or more hyperparameters, cross-validation testing, and at least one figure for each hyperparameter (minimum two) that shows how performance on training and validation data is affected as the hyperparameters change.\n",
    "<br>\n",
    "NN: 3 combinations of hidden layers, 2 combs of activation functions; adds to abt 10 combs\n"
   ]
  },
  {
   "cell_type": "markdown",
   "id": "7555ab76",
   "metadata": {},
   "source": [
    "GridSearchCV(estimator, param_grid, *, scoring=None, n_jobs=None, refit=True, cv=None, verbose=0, pre_dispatch='2*n_jobs', error_score=nan, return_train_score=False)[source]¶\n",
    "<br>\n",
    "MLPClassifier(hidden_layer_sizes=100, activation='relu', *, solver='adam', alpha=0.0001, batch_size='auto', learning_rate='constant', learning_rate_init=0.001, power_t=0.5, max_iter=200, shuffle=True, random_state=None, tol=0.0001, verbose=False, warm_start=False, momentum=0.9, nesterovs_momentum=True, early_stopping=False, validation_fraction=0.1, beta_1=0.9, beta_2=0.999, epsilon=1e-08, n_iter_no_change=10, max_fun=15000)[source]¶\n",
    "<br>\n",
    "Hidden layer sizes is a tuple of length n=number of hidden layers (total layers-2) <br>\n",
    "hidden_layer_sizes=(i,...,n) <br>\n",
    "e.g. hidden_layer_sizes=(10,) -> one hidden layer with 10 neurons <br>\n",
    "e.g. hidden_layer_sizes=(10,20) -> two hidden layers, first one with 10 neurons, 2nd with 20 neurons\n",
    "<br>\n",
    "“One issue within this subject on which there is a consensus is the performance difference from adding additional hidden layers: the situations in which performance improves with a second (or third, etc.) hidden layer are very few. One hidden layer is sufficient for the large majority of problems. The number of hidden neurons should be between the size of the input layer and the size of the output layer. The number of hidden neurons should be 2/3 the size of the input layer, plus the size of the output layer. The number of hidden neurons should be less than twice the size of the input layer.\n",
    "<br>\n",
    "input layer: 1658 (feature inputs)\n",
    "output layer: 1 (label=0 or 1)\n"
   ]
  },
  {
   "cell_type": "code",
   "execution_count": 150,
   "id": "4dab0173",
   "metadata": {},
   "outputs": [],
   "source": [
    "from sklearn.neural_network import MLPClassifier\n",
    "#Load the data\n",
    "X=X_binary \n",
    "y=np.ravel(y_train_df)\n",
    "\n",
    "#Initialize the classifier\n",
    "mlp = MLPClassifier(max_iter=800,activation='logistic',hidden_layer_sizes=(10,))#,alpha=1.0)\n",
    "\n",
    "# Create param grid.\n",
    "#param_grid = {'hidden_layer_sizes' : [2,5,10],'activation':['relu']}\n",
    "# Each mapping below is of the type <parameter-name>: <list-of-values>, where\n",
    "#     parameter-name must be a parameter for the type of model given\n",
    "#     list-of-values must be list of legal values of that parameter\n",
    "\n",
    "mlp_param_grid = {\n",
    "    #'activation': ['logistic', 'relu'],\n",
    "    #'hidden_layer_sizes': [(5,), (10,)],# (20, ),(50,),(100,)],\n",
    "    'alpha': [1]#np.logspace(-4, 2, 30) #10.0 ** -np.arange(-7, 6)\n",
    "}\n",
    "\n",
    "# Create grid search object, use cross data validation\n",
    "mlp_clf= GridSearchCV(mlp, mlp_param_grid, scoring='accuracy',\n",
    "                  n_jobs=-1, cv=5, return_train_score=True)\n",
    "#mlp_clf =RandomizedSearchCV(mlp, param_distributions=mlp_param_grid,\n",
    "                            #n_iter=20, scoring=\"accuracy\", \n",
    "                            #n_jobs=-1, cv=5, return_train_score=True)\n",
    "\n",
    "# Fit on data (on X since we use cross data validation)\n",
    "mlp_best_clf = mlp_clf.fit(X, y)"
   ]
  },
  {
   "cell_type": "code",
   "execution_count": 157,
   "id": "2372dd3b",
   "metadata": {},
   "outputs": [
    {
     "name": "stdout",
     "output_type": "stream",
     "text": [
      "0.1545833333333333\n",
      "MLPClassifier(activation='logistic', alpha=1, hidden_layer_sizes=(10,),\n",
      "              max_iter=800)\n"
     ]
    },
    {
     "data": {
      "text/plain": [
       "{'alpha': 1}"
      ]
     },
     "execution_count": 157,
     "metadata": {},
     "output_type": "execute_result"
    }
   ],
   "source": [
    "print(1-mlp_best_clf.score(X, y))\n",
    "print(mlp_best_clf.best_estimator_)\n",
    "mlp_best_clf.best_params_\n",
    "\n",
    "#layers=10, error=0.0591666666666667\n",
    "#layers=8, error=0.06000000000000005\n",
    "#a=1, layers=10, error=0.06791666666666663\n",
    "#a=0.0001, layers=5, error=0.0591666666666667 activation = ReLu\n",
    "#a=0.0001, layers=5, error=0.060833333333333295 activation = logistic\n",
    "#a=3.359818286283781, layers=5, error=0.08125000000000004 activation = ReLu\n",
    "#a=0.18329807108324356, layers=5, error=0.06791666666666663 activation = logistic"
   ]
  },
  {
   "cell_type": "code",
   "execution_count": 152,
   "id": "e432ddab",
   "metadata": {},
   "outputs": [
    {
     "data": {
      "text/html": [
       "<div>\n",
       "<style scoped>\n",
       "    .dataframe tbody tr th:only-of-type {\n",
       "        vertical-align: middle;\n",
       "    }\n",
       "\n",
       "    .dataframe tbody tr th {\n",
       "        vertical-align: top;\n",
       "    }\n",
       "\n",
       "    .dataframe thead th {\n",
       "        text-align: right;\n",
       "    }\n",
       "</style>\n",
       "<table border=\"1\" class=\"dataframe\">\n",
       "  <thead>\n",
       "    <tr style=\"text-align: right;\">\n",
       "      <th></th>\n",
       "      <th>mean_fit_time</th>\n",
       "      <th>std_fit_time</th>\n",
       "      <th>mean_score_time</th>\n",
       "      <th>std_score_time</th>\n",
       "      <th>param_alpha</th>\n",
       "      <th>params</th>\n",
       "      <th>split0_test_score</th>\n",
       "      <th>split1_test_score</th>\n",
       "      <th>split2_test_score</th>\n",
       "      <th>split3_test_score</th>\n",
       "      <th>...</th>\n",
       "      <th>mean_test_score</th>\n",
       "      <th>std_test_score</th>\n",
       "      <th>rank_test_score</th>\n",
       "      <th>split0_train_score</th>\n",
       "      <th>split1_train_score</th>\n",
       "      <th>split2_train_score</th>\n",
       "      <th>split3_train_score</th>\n",
       "      <th>split4_train_score</th>\n",
       "      <th>mean_train_score</th>\n",
       "      <th>std_train_score</th>\n",
       "    </tr>\n",
       "  </thead>\n",
       "  <tbody>\n",
       "    <tr>\n",
       "      <th>0</th>\n",
       "      <td>0.545201</td>\n",
       "      <td>0.13835</td>\n",
       "      <td>0.01203</td>\n",
       "      <td>0.002481</td>\n",
       "      <td>1</td>\n",
       "      <td>{'alpha': 1}</td>\n",
       "      <td>0.841667</td>\n",
       "      <td>0.591667</td>\n",
       "      <td>0.710417</td>\n",
       "      <td>0.695833</td>\n",
       "      <td>...</td>\n",
       "      <td>0.719167</td>\n",
       "      <td>0.081558</td>\n",
       "      <td>1</td>\n",
       "      <td>0.916667</td>\n",
       "      <td>0.635938</td>\n",
       "      <td>0.819271</td>\n",
       "      <td>0.779687</td>\n",
       "      <td>0.860938</td>\n",
       "      <td>0.8025</td>\n",
       "      <td>0.094862</td>\n",
       "    </tr>\n",
       "  </tbody>\n",
       "</table>\n",
       "<p>1 rows × 21 columns</p>\n",
       "</div>"
      ],
      "text/plain": [
       "   mean_fit_time  std_fit_time  mean_score_time  std_score_time param_alpha  \\\n",
       "0       0.545201       0.13835          0.01203        0.002481           1   \n",
       "\n",
       "         params  split0_test_score  split1_test_score  split2_test_score  \\\n",
       "0  {'alpha': 1}           0.841667           0.591667           0.710417   \n",
       "\n",
       "   split3_test_score  ...  mean_test_score  std_test_score  rank_test_score  \\\n",
       "0           0.695833  ...         0.719167        0.081558                1   \n",
       "\n",
       "   split0_train_score  split1_train_score  split2_train_score  \\\n",
       "0            0.916667            0.635938            0.819271   \n",
       "\n",
       "   split3_train_score  split4_train_score  mean_train_score  std_train_score  \n",
       "0            0.779687            0.860938            0.8025         0.094862  \n",
       "\n",
       "[1 rows x 21 columns]"
      ]
     },
     "execution_count": 152,
     "metadata": {},
     "output_type": "execute_result"
    }
   ],
   "source": [
    "#mlp_a=pd.DataFrame(mlp_best_clf.cv_results_)\n",
    "mlp_hls=pd.DataFrame(mlp_clf.cv_results_)\n",
    "mlp_hls[mlp_hls['param_alpha']==1]\n",
    "#mlp_hls_relu=pd.DataFrame(mlp_clf.cv_results_)\n",
    "#mlp_hls"
   ]
  },
  {
   "cell_type": "code",
   "execution_count": 45,
   "id": "68961def",
   "metadata": {},
   "outputs": [
    {
     "data": {
      "image/png": "[encoded data removed]",
      "text/plain": [
       "<Figure size 576x396 with 1 Axes>"
      ]
     },
     "metadata": {},
     "output_type": "display_data"
    },
    {
     "name": "stdout",
     "output_type": "stream",
     "text": [
      "Ave. train std. dev=  0.002\n",
      "Ave. test std. dev=  0.01\n"
     ]
    }
   ],
   "source": [
    "#alpha=0.0001, varying hidden layer sizes\n",
    "parameter='param_hidden_layer_sizes'\n",
    "plt.xscale('log')\n",
    "grid_results(mlp_hls_relu,parameter=parameter)\n",
    "#grid_results(mlp_hls,parameter=parameter)"
   ]
  },
  {
   "cell_type": "code",
   "execution_count": 73,
   "id": "4eacf602",
   "metadata": {
    "scrolled": false
   },
   "outputs": [
    {
     "data": {
      "image/png": "[encoded data removed]",
      "text/plain": [
       "<Figure size 576x396 with 1 Axes>"
      ]
     },
     "metadata": {},
     "output_type": "display_data"
    },
    {
     "name": "stdout",
     "output_type": "stream",
     "text": [
      "Ave. train std. dev=  0.024\n",
      "Ave. test std. dev=  0.022\n"
     ]
    }
   ],
   "source": [
    "#varying alpha, hidden layer sizes=10\n",
    "parameter='param_alpha'\n",
    "plt.xscale('log')\n",
    "#plt.xlim(0,2)\n",
    "grid_results(mlp_a,parameter=parameter)"
   ]
  },
  {
   "cell_type": "code",
   "execution_count": 74,
   "id": "a2928feb",
   "metadata": {},
   "outputs": [
    {
     "data": {
      "text/plain": [
       "600"
      ]
     },
     "execution_count": 74,
     "metadata": {},
     "output_type": "execute_result"
    }
   ],
   "source": [
    "#Best fit model\n",
    "#mlp_model=MLPClassifier(alpha=1.0, hidden_layer_sizes=(10,), max_iter=500)\n",
    "mlp_model=MLPClassifier(activation='logistic', alpha=0.32903445623126676,\n",
    "              hidden_layer_sizes=(5,), max_iter=800)\n",
    "\n",
    "mlp_model.fit(X, y)\n",
    "yproba1_test=mlp_model.predict(X_te_binary)\n",
    "len(yproba1_test)\n",
    "\n",
    "#ldb best error=0 2nd best=0.153, accuracy=0.847\n",
    "\n",
    "#mlp test error=0.245, accuracy=0.755\n",
    "#test error=0.245 accuracy=0.755"
   ]
  },
  {
   "cell_type": "code",
   "execution_count": 76,
   "id": "6bca109c",
   "metadata": {},
   "outputs": [],
   "source": [
    "np.savetxt('yproba1_mlp.txt', yproba1_test) "
   ]
  },
  {
   "cell_type": "markdown",
   "id": "d1a20d1b",
   "metadata": {},
   "source": [
    "**4. (15 pts.)** Generate a third model, of whatever type you choose; you could use, for instance, SVM classifiers, or try ones that we have not yet explored directly (sklearn has its own decision-tree and decision-forest classifiers, for example). Whatever you choose, produce the same analysis as for the prior models, including a description of what you did, how hyperparameter variation affected results, and so forth. Figures are expected showing training/validation performance relative to hyperparameter variation; additional figures are allowed, of course.\n",
    "\n",
    "<br>\n",
    "sklearn.ensemble.RandomForestClassifier(n_estimators=100, *, criterion='gini', max_depth=None, min_samples_split=2, min_samples_leaf=1, min_weight_fraction_leaf=0.0, max_features='auto', max_leaf_nodes=None, min_impurity_decrease=0.0, min_impurity_split=None, bootstrap=True, oob_score=False, n_jobs=None, random_state=None, verbose=0, warm_start=False, class_weight=None, ccp_alpha=0.0, max_samples=None)[source]¶"
   ]
  },
  {
   "cell_type": "code",
   "execution_count": 113,
   "id": "df0071b9",
   "metadata": {},
   "outputs": [],
   "source": [
    "#Load the data\n",
    "X=X_binary \n",
    "y=np.ravel(y_train_df)\n",
    "\n",
    "#Initialize the classifier\n",
    "rf = RandomForestClassifier()#n_estimators=100,max_features=0.3\n",
    "\n",
    "# Create param grid.\n",
    "#'n_estimators' : [50,100,120,150,200,500]\n",
    "#'max_depth':list(range(100,1001,100)),\n",
    "#'max_features' : ['auto', 'log2']\n",
    "#'max_features' : [0.1,0.2,0.3,0.4,0.5,0.6,0.7,0.8,0.9]\n",
    "# criterion=['gini', 'entropy']\n",
    "rf_param_grid = {'max_features' : [0.3],'n_estimators':[100,120]}\n",
    "\n",
    "# Create grid search object\n",
    "\n",
    "rf_clf= GridSearchCV(rf, rf_param_grid, scoring='accuracy',\n",
    "                  n_jobs=-1, cv=5, return_train_score=True)\n",
    "#rf_clf = RandomizedSearchCV(rf, param_distributions=param_grid,\n",
    "                        #n_iter=10, scoring=\"accuracy\", random_state=0,\n",
    "                        #n_jobs=-1, cv=5, return_train_score=True)\n",
    "# Fit on data\n",
    "\n",
    "rf_best_clf = rf_clf.fit(X, y)"
   ]
  },
  {
   "cell_type": "code",
   "execution_count": 114,
   "id": "c50460ab",
   "metadata": {},
   "outputs": [
    {
     "name": "stdout",
     "output_type": "stream",
     "text": [
      "0.057916666666666616\n",
      "RandomForestClassifier(max_features=0.3, n_estimators=120)\n"
     ]
    },
    {
     "data": {
      "text/plain": [
       "{'max_features': 0.3, 'n_estimators': 120}"
      ]
     },
     "execution_count": 114,
     "metadata": {},
     "output_type": "execute_result"
    }
   ],
   "source": [
    "print(1-rf_best_clf.score(X, y))\n",
    "print(rf_best_clf.best_estimator_)\n",
    "rf_best_clf.best_params_\n",
    "\n",
    "#0.057916666666666616 RandomForestClassifier() {'n_estimators': 100}\n",
    "#0.057916666666666616 RandomForestClassifier(criterion='entropy'){'criterion': 'entropy'}\n",
    "#0.05833333333333335 RandomForestClassifier(max_features=0.3){'max_features': 0.3}"
   ]
  },
  {
   "cell_type": "code",
   "execution_count": 115,
   "id": "d689d309",
   "metadata": {},
   "outputs": [
    {
     "data": {
      "text/html": [
       "<div>\n",
       "<style scoped>\n",
       "    .dataframe tbody tr th:only-of-type {\n",
       "        vertical-align: middle;\n",
       "    }\n",
       "\n",
       "    .dataframe tbody tr th {\n",
       "        vertical-align: top;\n",
       "    }\n",
       "\n",
       "    .dataframe thead th {\n",
       "        text-align: right;\n",
       "    }\n",
       "</style>\n",
       "<table border=\"1\" class=\"dataframe\">\n",
       "  <thead>\n",
       "    <tr style=\"text-align: right;\">\n",
       "      <th></th>\n",
       "      <th>mean_fit_time</th>\n",
       "      <th>std_fit_time</th>\n",
       "      <th>mean_score_time</th>\n",
       "      <th>std_score_time</th>\n",
       "      <th>param_max_features</th>\n",
       "      <th>param_n_estimators</th>\n",
       "      <th>params</th>\n",
       "      <th>split0_test_score</th>\n",
       "      <th>split1_test_score</th>\n",
       "      <th>split2_test_score</th>\n",
       "      <th>...</th>\n",
       "      <th>mean_test_score</th>\n",
       "      <th>std_test_score</th>\n",
       "      <th>rank_test_score</th>\n",
       "      <th>split0_train_score</th>\n",
       "      <th>split1_train_score</th>\n",
       "      <th>split2_train_score</th>\n",
       "      <th>split3_train_score</th>\n",
       "      <th>split4_train_score</th>\n",
       "      <th>mean_train_score</th>\n",
       "      <th>std_train_score</th>\n",
       "    </tr>\n",
       "  </thead>\n",
       "  <tbody>\n",
       "    <tr>\n",
       "      <th>0</th>\n",
       "      <td>77.764630</td>\n",
       "      <td>2.979167</td>\n",
       "      <td>0.156104</td>\n",
       "      <td>0.029387</td>\n",
       "      <td>0.3</td>\n",
       "      <td>100</td>\n",
       "      <td>{'max_features': 0.3, 'n_estimators': 100}</td>\n",
       "      <td>0.818750</td>\n",
       "      <td>0.808333</td>\n",
       "      <td>0.760417</td>\n",
       "      <td>...</td>\n",
       "      <td>0.793333</td>\n",
       "      <td>0.019913</td>\n",
       "      <td>2</td>\n",
       "      <td>0.942187</td>\n",
       "      <td>0.944792</td>\n",
       "      <td>0.939063</td>\n",
       "      <td>0.942708</td>\n",
       "      <td>0.942187</td>\n",
       "      <td>0.942187</td>\n",
       "      <td>0.001834</td>\n",
       "    </tr>\n",
       "    <tr>\n",
       "      <th>1</th>\n",
       "      <td>66.938958</td>\n",
       "      <td>26.344132</td>\n",
       "      <td>0.092893</td>\n",
       "      <td>0.016279</td>\n",
       "      <td>0.3</td>\n",
       "      <td>120</td>\n",
       "      <td>{'max_features': 0.3, 'n_estimators': 120}</td>\n",
       "      <td>0.829167</td>\n",
       "      <td>0.814583</td>\n",
       "      <td>0.758333</td>\n",
       "      <td>...</td>\n",
       "      <td>0.795417</td>\n",
       "      <td>0.025766</td>\n",
       "      <td>1</td>\n",
       "      <td>0.942187</td>\n",
       "      <td>0.944792</td>\n",
       "      <td>0.939063</td>\n",
       "      <td>0.942708</td>\n",
       "      <td>0.942187</td>\n",
       "      <td>0.942187</td>\n",
       "      <td>0.001834</td>\n",
       "    </tr>\n",
       "  </tbody>\n",
       "</table>\n",
       "<p>2 rows × 22 columns</p>\n",
       "</div>"
      ],
      "text/plain": [
       "   mean_fit_time  std_fit_time  mean_score_time  std_score_time  \\\n",
       "0      77.764630      2.979167         0.156104        0.029387   \n",
       "1      66.938958     26.344132         0.092893        0.016279   \n",
       "\n",
       "  param_max_features param_n_estimators  \\\n",
       "0                0.3                100   \n",
       "1                0.3                120   \n",
       "\n",
       "                                       params  split0_test_score  \\\n",
       "0  {'max_features': 0.3, 'n_estimators': 100}           0.818750   \n",
       "1  {'max_features': 0.3, 'n_estimators': 120}           0.829167   \n",
       "\n",
       "   split1_test_score  split2_test_score  ...  mean_test_score  std_test_score  \\\n",
       "0           0.808333           0.760417  ...         0.793333        0.019913   \n",
       "1           0.814583           0.758333  ...         0.795417        0.025766   \n",
       "\n",
       "   rank_test_score  split0_train_score  split1_train_score  \\\n",
       "0                2            0.942187            0.944792   \n",
       "1                1            0.942187            0.944792   \n",
       "\n",
       "   split2_train_score  split3_train_score  split4_train_score  \\\n",
       "0            0.939063            0.942708            0.942187   \n",
       "1            0.939063            0.942708            0.942187   \n",
       "\n",
       "   mean_train_score  std_train_score  \n",
       "0          0.942187         0.001834  \n",
       "1          0.942187         0.001834  \n",
       "\n",
       "[2 rows x 22 columns]"
      ]
     },
     "execution_count": 115,
     "metadata": {},
     "output_type": "execute_result"
    }
   ],
   "source": [
    "rf_best=pd.DataFrame(rf_best_clf.cv_results_)\n",
    "rf_best\n",
    "#rf_est=pd.DataFrame(rf_best_clf.cv_results_)\n",
    "#rf_est.head()\n",
    "#rf_fea=pd.DataFrame(rf_best_clf.cv_results_)\n",
    "#rf_fea.head()"
   ]
  },
  {
   "cell_type": "code",
   "execution_count": 117,
   "id": "9bb3be43",
   "metadata": {},
   "outputs": [
    {
     "data": {
      "text/plain": [
       "0.057813"
      ]
     },
     "execution_count": 117,
     "metadata": {},
     "output_type": "execute_result"
    }
   ],
   "source": [
    "1-0.942187 #0.001834"
   ]
  },
  {
   "cell_type": "code",
   "execution_count": 104,
   "id": "e7c9445f",
   "metadata": {},
   "outputs": [
    {
     "data": {
      "image/png": "[encoded data removed]",
      "text/plain": [
       "<Figure size 576x396 with 1 Axes>"
      ]
     },
     "metadata": {},
     "output_type": "display_data"
    },
    {
     "name": "stdout",
     "output_type": "stream",
     "text": [
      "Ave. train std. dev=  0.002\n",
      "Ave. test std. dev=  0.018\n"
     ]
    }
   ],
   "source": [
    "#alpha=0.0001, varying hidden layer sizes\n",
    "parameter='param_n_estimators'\n",
    "plt.xscale('log')\n",
    "grid_results(rf_est,parameter=parameter)\n",
    "#grid_results(mlp_hls,parameter=parameter)"
   ]
  },
  {
   "cell_type": "code",
   "execution_count": 108,
   "id": "fa952e87",
   "metadata": {
    "scrolled": false
   },
   "outputs": [
    {
     "data": {
      "image/png": "[encoded data removed]",
      "text/plain": [
       "<Figure size 576x396 with 1 Axes>"
      ]
     },
     "metadata": {},
     "output_type": "display_data"
    },
    {
     "name": "stdout",
     "output_type": "stream",
     "text": [
      "Ave. train std. dev=  0.002\n",
      "Ave. test std. dev=  0.023\n"
     ]
    }
   ],
   "source": [
    "#varying alpha, hidden layer sizes=10\n",
    "parameter='param_max_features'\n",
    "#plt.xscale('log')\n",
    "#plt.xlim(0,2)\n",
    "grid_results(rf_fea,parameter=parameter)"
   ]
  },
  {
   "cell_type": "code",
   "execution_count": 109,
   "id": "7bf38307",
   "metadata": {},
   "outputs": [
    {
     "data": {
      "text/plain": [
       "600"
      ]
     },
     "execution_count": 109,
     "metadata": {},
     "output_type": "execute_result"
    }
   ],
   "source": [
    "#Best fit model\n",
    "rf_model=RandomForestClassifier(n_estimators=120,max_features=0.3)\n",
    "rf_model.fit(X, y)\n",
    "yproba1_test=rf_model.predict(X_te_binary)\n",
    "len(yproba1_test)\n",
    "\n",
    "#ldb best error=0 2nd best=0.153, accuracy=0.847\n",
    "\n",
    "#rf test error=0.275 accuracy=0.725"
   ]
  },
  {
   "cell_type": "code",
   "execution_count": 110,
   "id": "5a9e70ec",
   "metadata": {},
   "outputs": [],
   "source": [
    "np.savetxt('yproba1_test.txt', yproba1_test) "
   ]
  },
  {
   "cell_type": "markdown",
   "id": "7a0e7808",
   "metadata": {},
   "source": [
    "**5. (10 pts.)** Summarize which classifier of the three you built performs best overall on your labeled data, and give some reasons why this may be so. Does it have more flexibility? Is it better at avoiding overfitting on this data? <br>\n",
    "In addition, look at the performance of your best classifier and try to characterize the mistakes that it makes. Are there common features to the sentences that it gets wrong (e.g., are they mostly from one of the three source websites)? Are there other features that you can identify? Can you hypothesize why you see the results you do?"
   ]
  },
  {
   "cell_type": "markdown",
   "id": "75ca99f3",
   "metadata": {},
   "source": [
    "**6. (5 pts.)** Apply your best classifier from the previous steps to the text data in x_test.csv file, storing the outcomes as a probabilistic prediction and then submitting them to the leaderboard, as described below. In your report, describe the performance that you see there. How does that match up to the performance you saw during training and cross-validation? If it is as expected, what does that tell us, do you think? If it is not as expected, what does that tell us?\n"
   ]
  },
  {
   "cell_type": "markdown",
   "id": "d02d8f79",
   "metadata": {},
   "source": [
    "### Part Two: Prediction submissions (5 points)\n",
    "To test your various classifiers, you can submit the predictions that each makes—on the unlabeled x_test.csv file—to a leaderboard. You can submit output from multiple classifiers, of multiple types, and simply re-submit whichever did the best at the end for your final graded score. The leaderboard code will compare your predictions to known correct examples, scoring them relative to the correct answers.<br>\n",
    "As for Project 01, the submission should be in the form of a plain text-file, named yproba1_test.txt, containing one probability value (a floating-point number giving the probability of a positive binary label, 1) per example in the test input. Each line will be a single number, and we should be able to load it into a 1-dimensional NumPy array using:\n",
    "                         <br> np.loadtxt('yproba1_test.txt') <br>\n",
    "(It would be a good idea to verify that this will work as expected.) These numbers will be thresholded at a probability of 0.5 for scoring purposes."
   ]
  },
  {
   "cell_type": "code",
   "execution_count": null,
   "id": "ed9a6f0e",
   "metadata": {},
   "outputs": [],
   "source": [
    "np.savetxt('yproba1_test.txt', yproba1_test) "
   ]
  },
  {
   "cell_type": "markdown",
   "id": "20923bdf",
   "metadata": {},
   "source": [
    "### Extras"
   ]
  },
  {
   "cell_type": "code",
   "execution_count": 278,
   "id": "853c496f",
   "metadata": {},
   "outputs": [
    {
     "name": "stdout",
     "output_type": "stream",
     "text": [
      "accuracy: 0.846\n",
      "log loss: 5.325\n"
     ]
    }
   ],
   "source": [
    "#Load the data\n",
    "#X=X_tfid \n",
    "#(3,2) accuracy: 0.812 log loss: 6.476 \n",
    "#(1,1) accuracy: 0.852 log loss: 5.109 #1658 features\n",
    "#(0,0) accuracy: 0.842 log loss: 5.469\n",
    "#(2,1) accuracy: 0.817 log loss: 6.332\n",
    "#(1,2) accuracy: 0.831 log loss: 5.829 #1176 features\n",
    "\n",
    "X=X_binary #(3,2) accuracy: 0.812 log loss: 6.476 \n",
    "#(1,1) accuracy: 0.846 log loss: 5.325 \n",
    "#(0,0) accuracy: 0.829 log loss: 5.901\n",
    "#(2,1) accuracy: 0.821 log loss: 6.188\n",
    "#(1,2) accuracy: 0.825 log loss: 6.044\n",
    "\n",
    "\n",
    "#X=X_counts #(3,2) accuracy: 0.81 log loss: 6.548 \n",
    "#(1,1) accuracy: 0.846 log loss: 5.325 \n",
    "#(0,0) accuracy: 0.831 log loss: 5.829\n",
    "\n",
    "#X=X_tfid_all #(3,2) accuracy: 0.804 log loss: 6.764, same\n",
    "\n",
    "y=np.ravel(y_train_df)\n",
    "\n",
    "#Split the data\n",
    "x_train, x_test, y_train, y_test = train_test_split(X, y, test_size=0.2, random_state=0)\n",
    "\n",
    "#Create the model\n",
    "model = LogisticRegression()\n",
    "#model = LogisticRegression(solver='sag')\n",
    "model.fit(x_train, y_train)\n",
    "#ytr_pred = model.predict(x_train)\n",
    "y_pred = model.predict(x_test)\n",
    "#tr_score = model.score(x_train, y_train)\n",
    "score = model.score(x_test, y_test)\n",
    "#trlogloss = log_loss(y_train, ytr_pred)\n",
    "logloss = log_loss(y_test, y_pred)\n",
    "cm = sklearn.metrics.confusion_matrix(y_test, y_pred)\n",
    "coef=model.coef_\n",
    "\n",
    "print('accuracy:',np.round(score,3))\n",
    "print('log loss:',np.round(logloss,3))\n",
    "\n",
    "base_acc=score\n",
    "base_logloss=logloss"
   ]
  },
  {
   "cell_type": "code",
   "execution_count": 167,
   "id": "722a830c",
   "metadata": {},
   "outputs": [
    {
     "name": "stdout",
     "output_type": "stream",
     "text": [
      "Test accuracy: 0.856\n",
      "log loss: 4.965\n",
      "Test accuracy: 0.86\n"
     ]
    },
    {
     "data": {
      "text/plain": [
       "Text(52.0, 0.5, 'True')"
      ]
     },
     "execution_count": 167,
     "metadata": {},
     "output_type": "execute_result"
    },
    {
     "data": {
      "image/png": "[encoded data removed]",
      "text/plain": [
       "<Figure size 576x396 with 2 Axes>"
      ]
     },
     "metadata": {},
     "output_type": "display_data"
    }
   ],
   "source": [
    "#Load the data\n",
    "X=X_binary \n",
    "y=np.ravel(y_train_df)\n",
    "\n",
    "#Split the data\n",
    "x_train, x_test, y_train, y_test = train_test_split(X, y, test_size=0.2, random_state=0)\n",
    "\n",
    "#Create the model\n",
    "#model = LogisticRegression()\n",
    "model=LogisticRegression(C=0.20691380811147903, l1_ratio=0.0, max_iter=800,\n",
    "                   penalty='elasticnet', solver='saga')\n",
    "model.fit(x_train, y_train)\n",
    "#ytr_pred = model.predict(x_train)\n",
    "y_pred = model.predict(x_test)\n",
    "y_true = y_test\n",
    "#tr_score = model.score(x_train, y_train)\n",
    "score = model.score(x_test, y_test)\n",
    "#trlogloss = log_loss(y_train, ytr_pred)\n",
    "logloss = log_loss(y_test, y_pred)\n",
    "cm = sklearn.metrics.confusion_matrix(y_test, y_pred)\n",
    "coef=model.coef_\n",
    "\n",
    "print('Test accuracy:',np.round(score,3))\n",
    "print('log loss:',np.round(logloss,3))\n",
    "\n",
    "print(\"Test accuracy:\", np.round(sklearn.metrics.accuracy_score(y_true, y_pred), 2))\n",
    "cf_matrix = sklearn.metrics.confusion_matrix(y_true, y_pred)\n",
    "import seaborn as sns\n",
    "import matplotlib.pyplot as plt\n",
    "sns.heatmap(cf_matrix, annot=True, cmap='Blues')\n",
    "plt.xlabel('Predicted')\n",
    "plt.ylabel('True')\n",
    "\n"
   ]
  },
  {
   "cell_type": "code",
   "execution_count": 225,
   "id": "f1581405",
   "metadata": {},
   "outputs": [
    {
     "data": {
      "text/plain": [
       "Index(['website_name', 'text', 'text_clean', 'y', 'word_count', 'char_count',\n",
       "       'sentence_count', 'avg_word_length', 'avg_sentence_length'],\n",
       "      dtype='object')"
      ]
     },
     "execution_count": 225,
     "metadata": {},
     "output_type": "execute_result"
    }
   ],
   "source": [
    "train_df.columns"
   ]
  },
  {
   "cell_type": "code",
   "execution_count": 228,
   "id": "e9cca5dc",
   "metadata": {},
   "outputs": [
    {
     "data": {
      "text/html": [
       "<div>\n",
       "<style scoped>\n",
       "    .dataframe tbody tr th:only-of-type {\n",
       "        vertical-align: middle;\n",
       "    }\n",
       "\n",
       "    .dataframe tbody tr th {\n",
       "        vertical-align: top;\n",
       "    }\n",
       "\n",
       "    .dataframe thead th {\n",
       "        text-align: right;\n",
       "    }\n",
       "</style>\n",
       "<table border=\"1\" class=\"dataframe\">\n",
       "  <thead>\n",
       "    <tr style=\"text-align: right;\">\n",
       "      <th></th>\n",
       "      <th>edge</th>\n",
       "      <th>wait hour</th>\n",
       "      <th>indeed</th>\n",
       "      <th>utter</th>\n",
       "      <th>vision</th>\n",
       "      <th>crab leg</th>\n",
       "      <th>work week</th>\n",
       "      <th>great place</th>\n",
       "      <th>often</th>\n",
       "      <th>cost much</th>\n",
       "      <th>...</th>\n",
       "      <th>y</th>\n",
       "      <th>y_pred</th>\n",
       "      <th>website_name</th>\n",
       "      <th>text</th>\n",
       "      <th>text_clean</th>\n",
       "      <th>Correct</th>\n",
       "      <th>Incorrect</th>\n",
       "      <th>word_count</th>\n",
       "      <th>char_count</th>\n",
       "      <th>avg_word_length</th>\n",
       "    </tr>\n",
       "  </thead>\n",
       "  <tbody>\n",
       "    <tr>\n",
       "      <th>1950</th>\n",
       "      <td>0</td>\n",
       "      <td>0</td>\n",
       "      <td>0</td>\n",
       "      <td>0</td>\n",
       "      <td>0</td>\n",
       "      <td>0</td>\n",
       "      <td>0</td>\n",
       "      <td>0</td>\n",
       "      <td>0</td>\n",
       "      <td>0</td>\n",
       "      <td>...</td>\n",
       "      <td>0</td>\n",
       "      <td>0</td>\n",
       "      <td>yelp</td>\n",
       "      <td>-My order was not correct.</td>\n",
       "      <td>order not correct</td>\n",
       "      <td>True</td>\n",
       "      <td>False</td>\n",
       "      <td>5</td>\n",
       "      <td>22</td>\n",
       "      <td>4.400000</td>\n",
       "    </tr>\n",
       "    <tr>\n",
       "      <th>252</th>\n",
       "      <td>0</td>\n",
       "      <td>0</td>\n",
       "      <td>0</td>\n",
       "      <td>0</td>\n",
       "      <td>0</td>\n",
       "      <td>0</td>\n",
       "      <td>0</td>\n",
       "      <td>0</td>\n",
       "      <td>0</td>\n",
       "      <td>0</td>\n",
       "      <td>...</td>\n",
       "      <td>0</td>\n",
       "      <td>0</td>\n",
       "      <td>amazon</td>\n",
       "      <td>They refuse to refund or replace.</td>\n",
       "      <td>refuse refund replace</td>\n",
       "      <td>True</td>\n",
       "      <td>False</td>\n",
       "      <td>6</td>\n",
       "      <td>28</td>\n",
       "      <td>4.666667</td>\n",
       "    </tr>\n",
       "    <tr>\n",
       "      <th>1936</th>\n",
       "      <td>0</td>\n",
       "      <td>0</td>\n",
       "      <td>0</td>\n",
       "      <td>0</td>\n",
       "      <td>0</td>\n",
       "      <td>0</td>\n",
       "      <td>0</td>\n",
       "      <td>0</td>\n",
       "      <td>0</td>\n",
       "      <td>0</td>\n",
       "      <td>...</td>\n",
       "      <td>0</td>\n",
       "      <td>0</td>\n",
       "      <td>yelp</td>\n",
       "      <td>Bland and flavorless is a good way of describi...</td>\n",
       "      <td>bland flavorless good way describe barely revi...</td>\n",
       "      <td>True</td>\n",
       "      <td>False</td>\n",
       "      <td>13</td>\n",
       "      <td>59</td>\n",
       "      <td>4.538462</td>\n",
       "    </tr>\n",
       "    <tr>\n",
       "      <th>1664</th>\n",
       "      <td>0</td>\n",
       "      <td>0</td>\n",
       "      <td>0</td>\n",
       "      <td>0</td>\n",
       "      <td>0</td>\n",
       "      <td>0</td>\n",
       "      <td>0</td>\n",
       "      <td>0</td>\n",
       "      <td>0</td>\n",
       "      <td>0</td>\n",
       "      <td>...</td>\n",
       "      <td>0</td>\n",
       "      <td>0</td>\n",
       "      <td>yelp</td>\n",
       "      <td>By this point, my friends and I had basically ...</td>\n",
       "      <td>point friend basically figure place joke didnt...</td>\n",
       "      <td>True</td>\n",
       "      <td>False</td>\n",
       "      <td>25</td>\n",
       "      <td>108</td>\n",
       "      <td>4.320000</td>\n",
       "    </tr>\n",
       "    <tr>\n",
       "      <th>398</th>\n",
       "      <td>0</td>\n",
       "      <td>0</td>\n",
       "      <td>0</td>\n",
       "      <td>0</td>\n",
       "      <td>0</td>\n",
       "      <td>0</td>\n",
       "      <td>0</td>\n",
       "      <td>0</td>\n",
       "      <td>0</td>\n",
       "      <td>0</td>\n",
       "      <td>...</td>\n",
       "      <td>0</td>\n",
       "      <td>0</td>\n",
       "      <td>amazon</td>\n",
       "      <td>The plug did not work very well.</td>\n",
       "      <td>plug not work very well</td>\n",
       "      <td>True</td>\n",
       "      <td>False</td>\n",
       "      <td>7</td>\n",
       "      <td>26</td>\n",
       "      <td>3.714286</td>\n",
       "    </tr>\n",
       "  </tbody>\n",
       "</table>\n",
       "<p>5 rows × 1668 columns</p>\n",
       "</div>"
      ],
      "text/plain": [
       "      edge  wait hour  indeed  utter  vision  crab leg  work week  \\\n",
       "1950     0          0       0      0       0         0          0   \n",
       "252      0          0       0      0       0         0          0   \n",
       "1936     0          0       0      0       0         0          0   \n",
       "1664     0          0       0      0       0         0          0   \n",
       "398      0          0       0      0       0         0          0   \n",
       "\n",
       "      great place  often  cost much  ...  y  y_pred  website_name  \\\n",
       "1950            0      0          0  ...  0       0          yelp   \n",
       "252             0      0          0  ...  0       0        amazon   \n",
       "1936            0      0          0  ...  0       0          yelp   \n",
       "1664            0      0          0  ...  0       0          yelp   \n",
       "398             0      0          0  ...  0       0        amazon   \n",
       "\n",
       "                                                   text  \\\n",
       "1950                         -My order was not correct.   \n",
       "252                   They refuse to refund or replace.   \n",
       "1936  Bland and flavorless is a good way of describi...   \n",
       "1664  By this point, my friends and I had basically ...   \n",
       "398                    The plug did not work very well.   \n",
       "\n",
       "                                             text_clean  Correct  Incorrect  \\\n",
       "1950                                  order not correct     True      False   \n",
       "252                               refuse refund replace     True      False   \n",
       "1936  bland flavorless good way describe barely revi...     True      False   \n",
       "1664  point friend basically figure place joke didnt...     True      False   \n",
       "398                             plug not work very well     True      False   \n",
       "\n",
       "      word_count  char_count  avg_word_length  \n",
       "1950           5          22         4.400000  \n",
       "252            6          28         4.666667  \n",
       "1936          13          59         4.538462  \n",
       "1664          25         108         4.320000  \n",
       "398            7          26         3.714286  \n",
       "\n",
       "[5 rows x 1668 columns]"
      ]
     },
     "execution_count": 228,
     "metadata": {},
     "output_type": "execute_result"
    }
   ],
   "source": [
    "x_valid=x_test.copy()\n",
    "x_valid['y']=y_test\n",
    "x_valid['y_pred']=y_pred\n",
    "x_valid_1=train_df.iloc[x_valid.index]\n",
    "\n",
    "x_valid_1.columns\n",
    "#Index(['website_name', 'text', 'text_clean'], dtype='object')\n",
    "\n",
    "x_valid['website_name']=x_valid_1['website_name']\n",
    "x_valid['text']=x_valid_1['text']\n",
    "x_valid['text_clean']=x_valid_1['text_clean']\n",
    "\n",
    "x_valid['Correct']=(x_valid['y']==x_valid['y_pred'])\n",
    "x_valid['Incorrect']=(x_valid['y']!=x_valid['y_pred'])\n",
    "x_valid['word_count']=x_valid_1['word_count']\n",
    "x_valid['char_count']=x_valid_1['char_count']\n",
    "x_valid['avg_word_length']=x_valid_1['avg_word_length']\n",
    "x_valid.head()"
   ]
  },
  {
   "cell_type": "code",
   "execution_count": 242,
   "id": "1b4a29b9",
   "metadata": {},
   "outputs": [
    {
     "data": {
      "text/html": [
       "<div>\n",
       "<style scoped>\n",
       "    .dataframe tbody tr th:only-of-type {\n",
       "        vertical-align: middle;\n",
       "    }\n",
       "\n",
       "    .dataframe tbody tr th {\n",
       "        vertical-align: top;\n",
       "    }\n",
       "\n",
       "    .dataframe thead th {\n",
       "        text-align: right;\n",
       "    }\n",
       "</style>\n",
       "<table border=\"1\" class=\"dataframe\">\n",
       "  <thead>\n",
       "    <tr style=\"text-align: right;\">\n",
       "      <th></th>\n",
       "      <th>Correct</th>\n",
       "      <th>Incorrect</th>\n",
       "    </tr>\n",
       "    <tr>\n",
       "      <th>char_count</th>\n",
       "      <th></th>\n",
       "      <th></th>\n",
       "    </tr>\n",
       "  </thead>\n",
       "  <tbody>\n",
       "    <tr>\n",
       "      <th>5</th>\n",
       "      <td>1</td>\n",
       "      <td>0</td>\n",
       "    </tr>\n",
       "    <tr>\n",
       "      <th>6</th>\n",
       "      <td>0</td>\n",
       "      <td>1</td>\n",
       "    </tr>\n",
       "    <tr>\n",
       "      <th>9</th>\n",
       "      <td>1</td>\n",
       "      <td>0</td>\n",
       "    </tr>\n",
       "    <tr>\n",
       "      <th>10</th>\n",
       "      <td>3</td>\n",
       "      <td>1</td>\n",
       "    </tr>\n",
       "    <tr>\n",
       "      <th>11</th>\n",
       "      <td>5</td>\n",
       "      <td>0</td>\n",
       "    </tr>\n",
       "    <tr>\n",
       "      <th>...</th>\n",
       "      <td>...</td>\n",
       "      <td>...</td>\n",
       "    </tr>\n",
       "    <tr>\n",
       "      <th>150</th>\n",
       "      <td>2</td>\n",
       "      <td>0</td>\n",
       "    </tr>\n",
       "    <tr>\n",
       "      <th>161</th>\n",
       "      <td>1</td>\n",
       "      <td>0</td>\n",
       "    </tr>\n",
       "    <tr>\n",
       "      <th>168</th>\n",
       "      <td>1</td>\n",
       "      <td>0</td>\n",
       "    </tr>\n",
       "    <tr>\n",
       "      <th>205</th>\n",
       "      <td>1</td>\n",
       "      <td>0</td>\n",
       "    </tr>\n",
       "    <tr>\n",
       "      <th>219</th>\n",
       "      <td>1</td>\n",
       "      <td>0</td>\n",
       "    </tr>\n",
       "  </tbody>\n",
       "</table>\n",
       "<p>120 rows × 2 columns</p>\n",
       "</div>"
      ],
      "text/plain": [
       "            Correct  Incorrect\n",
       "char_count                    \n",
       "5                 1          0\n",
       "6                 0          1\n",
       "9                 1          0\n",
       "10                3          1\n",
       "11                5          0\n",
       "...             ...        ...\n",
       "150               2          0\n",
       "161               1          0\n",
       "168               1          0\n",
       "205               1          0\n",
       "219               1          0\n",
       "\n",
       "[120 rows x 2 columns]"
      ]
     },
     "execution_count": 242,
     "metadata": {},
     "output_type": "execute_result"
    }
   ],
   "source": [
    "word_counts"
   ]
  },
  {
   "cell_type": "code",
   "execution_count": 255,
   "id": "fd68b0c9",
   "metadata": {},
   "outputs": [
    {
     "data": {
      "text/plain": [
       "<matplotlib.legend.Legend at 0x175976f70>"
      ]
     },
     "execution_count": 255,
     "metadata": {},
     "output_type": "execute_result"
    },
    {
     "data": {
      "image/png": "[encoded data removed]",
      "text/plain": [
       "<Figure size 576x396 with 1 Axes>"
      ]
     },
     "metadata": {},
     "output_type": "display_data"
    }
   ],
   "source": [
    "word_counts=pd.DataFrame(x_valid.groupby('avg_word_length')['Correct'].sum())\n",
    "word_counts['Incorrect']=(x_valid.groupby('avg_word_length')['Incorrect'].sum())\n",
    "word_counts['avg_word_length'] = word_counts.index\n",
    "axes = word_counts.plot.line(x='avg_word_length', y=['Correct','Incorrect'],rot=0,title='Correct & Incorrect Predictions vs word length')\n",
    "axes.legend(loc=2) "
   ]
  },
  {
   "cell_type": "code",
   "execution_count": 239,
   "id": "efb3eecc",
   "metadata": {},
   "outputs": [
    {
     "data": {
      "text/plain": [
       "<matplotlib.legend.Legend at 0x1770c3550>"
      ]
     },
     "execution_count": 239,
     "metadata": {},
     "output_type": "execute_result"
    },
    {
     "data": {
      "image/png": "[encoded data removed]",
      "text/plain": [
       "<Figure size 576x396 with 1 Axes>"
      ]
     },
     "metadata": {},
     "output_type": "display_data"
    }
   ],
   "source": [
    "word_counts=pd.DataFrame(x_valid.groupby('word_count')['Correct'].sum())\n",
    "word_counts['Incorrect']=(x_valid.groupby('word_count')['Incorrect'].sum())\n",
    "\n",
    "axes = word_counts.plot.kde(rot=0,title='Correct & Incorrect Predictions vs word count')\n",
    "axes.legend(loc=2) \n",
    "#axes.title('Count of Correct & Incorrect Predictions')"
   ]
  },
  {
   "cell_type": "code",
   "execution_count": 233,
   "id": "a37a8c80",
   "metadata": {},
   "outputs": [
    {
     "data": {
      "text/plain": [
       "<matplotlib.legend.Legend at 0x176eefdf0>"
      ]
     },
     "execution_count": 233,
     "metadata": {},
     "output_type": "execute_result"
    },
    {
     "data": {
      "image/png": "[encoded data removed]",
      "text/plain": [
       "<Figure size 576x396 with 1 Axes>"
      ]
     },
     "metadata": {},
     "output_type": "display_data"
    }
   ],
   "source": [
    "websites=pd.DataFrame(x_valid.groupby('website_name')['Correct'].sum())\n",
    "websites['Incorrect']=(x_valid.groupby('website_name')['Incorrect'].sum())\n",
    "\n",
    "axes = websites.plot.bar(rot=0,title='Count of Correct & Incorrect Predictions',ylim=(0,220))\n",
    "axes.legend(loc=2) \n",
    "#axes.title('Count of Correct & Incorrect Predictions')"
   ]
  },
  {
   "cell_type": "code",
   "execution_count": null,
   "id": "cd80d255",
   "metadata": {},
   "outputs": [],
   "source": [
    "#Example\n",
    "# Let's measure execution time too\n",
    "import time\n",
    "start = time.time()\n",
    "\n",
    "# Defining 3-dimensional hyperparameter space as a Python dictionary\n",
    "hyperparameter_space = {'max_depth':[2,3,4,6,8,10,12,15,20], \n",
    "                        'min_samples_leaf':[1,2,4,6,8,10,20,30],\n",
    "                        'min_samples_split':[1,2,3,4,5,6,8,10]}\n",
    "\n",
    "from sklearn.model_selection import RandomizedSearchCV\n",
    "rs = RandomizedSearchCV(dtclf, param_distributions=hyperparameter_space,\n",
    "                        n_iter=10, scoring=\"accuracy\", random_state=0,\n",
    "                        n_jobs=-1, cv=10, return_train_score=True)\n",
    "\n",
    "rs.fit(X_train, y_train)\n",
    "print(\"Optimal hyperparameter combination:\", rs.best_params_)\n",
    "print()\n",
    "print(\"Mean cross-validated training accuracy score:\",\n",
    "      rs.best_score_)\n",
    "rs.best_estimator_.fit(X_train, y_train)\n",
    "y_pred = rs.best_estimator_.predict(X_test) # Predictions\n",
    "y_true = y_test # True values\n",
    "\n",
    "print(\"Test accuracy:\", np.round(accuracy_score(y_true, y_pred), 2))\n",
    "cf_matrix = confusion_matrix(y_true, y_pred)\n",
    "import seaborn as sns\n",
    "import matplotlib.pyplot as plt\n",
    "sns.heatmap(cf_matrix, annot=True, cmap='Blues')\n",
    "plt.xlabel('Predicted')\n",
    "plt.ylabel('True')\n",
    "\n",
    "end = time.time()\n",
    "diff = end - start\n",
    "print('Execution time of Random Search (in Seconds):', diff)\n",
    "print()"
   ]
  }
 ],
 "metadata": {
  "kernelspec": {
   "display_name": "Python 3",
   "language": "python",
   "name": "python3"
  },
  "language_info": {
   "codemirror_mode": {
    "name": "ipython",
    "version": 3
   },
   "file_extension": ".py",
   "mimetype": "text/x-python",
   "name": "python",
   "nbconvert_exporter": "python",
   "pygments_lexer": "ipython3",
   "version": "3.8.10"
  }
 },
 "nbformat": 4,
 "nbformat_minor": 5
}
